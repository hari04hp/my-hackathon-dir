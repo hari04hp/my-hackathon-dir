{
 "cells": [
  {
   "cell_type": "code",
   "execution_count": 1,
   "metadata": {},
   "outputs": [],
   "source": [
    "import pandas as pd\n",
    "import numpy as np\n",
    "import matplotlib.pyplot as plt\n",
    "\n",
    "import seaborn as sns"
   ]
  },
  {
   "cell_type": "code",
   "execution_count": 2,
   "metadata": {},
   "outputs": [
    {
     "data": {
      "text/html": [
       "<div>\n",
       "<style scoped>\n",
       "    .dataframe tbody tr th:only-of-type {\n",
       "        vertical-align: middle;\n",
       "    }\n",
       "\n",
       "    .dataframe tbody tr th {\n",
       "        vertical-align: top;\n",
       "    }\n",
       "\n",
       "    .dataframe thead th {\n",
       "        text-align: right;\n",
       "    }\n",
       "</style>\n",
       "<table border=\"1\" class=\"dataframe\">\n",
       "  <thead>\n",
       "    <tr style=\"text-align: right;\">\n",
       "      <th></th>\n",
       "      <th>grade_A_Component_1</th>\n",
       "      <th>grade_A_Component_2</th>\n",
       "      <th>max_luminosity</th>\n",
       "      <th>thickness</th>\n",
       "      <th>xmin</th>\n",
       "      <th>xmax</th>\n",
       "      <th>ymin</th>\n",
       "      <th>ymax</th>\n",
       "      <th>pixel_area</th>\n",
       "      <th>log_area</th>\n",
       "      <th>x_component_1</th>\n",
       "      <th>x_component_2</th>\n",
       "      <th>x_component_3</th>\n",
       "      <th>x_component_4</th>\n",
       "      <th>x_component_5</th>\n",
       "      <th>class</th>\n",
       "    </tr>\n",
       "  </thead>\n",
       "  <tbody>\n",
       "    <tr>\n",
       "      <th>0</th>\n",
       "      <td>0</td>\n",
       "      <td>1</td>\n",
       "      <td>150</td>\n",
       "      <td>36</td>\n",
       "      <td>144</td>\n",
       "      <td>172</td>\n",
       "      <td>947225</td>\n",
       "      <td>947332</td>\n",
       "      <td>439</td>\n",
       "      <td>439.099273</td>\n",
       "      <td>0</td>\n",
       "      <td>0</td>\n",
       "      <td>1</td>\n",
       "      <td>0</td>\n",
       "      <td>0</td>\n",
       "      <td>1</td>\n",
       "    </tr>\n",
       "    <tr>\n",
       "      <th>1</th>\n",
       "      <td>1</td>\n",
       "      <td>0</td>\n",
       "      <td>134</td>\n",
       "      <td>55</td>\n",
       "      <td>1144</td>\n",
       "      <td>1152</td>\n",
       "      <td>2379058</td>\n",
       "      <td>2379624</td>\n",
       "      <td>329</td>\n",
       "      <td>329.205616</td>\n",
       "      <td>1</td>\n",
       "      <td>0</td>\n",
       "      <td>0</td>\n",
       "      <td>0</td>\n",
       "      <td>0</td>\n",
       "      <td>1</td>\n",
       "    </tr>\n",
       "    <tr>\n",
       "      <th>2</th>\n",
       "      <td>1</td>\n",
       "      <td>0</td>\n",
       "      <td>135</td>\n",
       "      <td>65</td>\n",
       "      <td>950</td>\n",
       "      <td>974</td>\n",
       "      <td>1038442</td>\n",
       "      <td>1036754</td>\n",
       "      <td>300</td>\n",
       "      <td>300.120598</td>\n",
       "      <td>0</td>\n",
       "      <td>0</td>\n",
       "      <td>0</td>\n",
       "      <td>0</td>\n",
       "      <td>0</td>\n",
       "      <td>2</td>\n",
       "    </tr>\n",
       "    <tr>\n",
       "      <th>3</th>\n",
       "      <td>0</td>\n",
       "      <td>1</td>\n",
       "      <td>123</td>\n",
       "      <td>35</td>\n",
       "      <td>41</td>\n",
       "      <td>220</td>\n",
       "      <td>1705580</td>\n",
       "      <td>1705604</td>\n",
       "      <td>6803</td>\n",
       "      <td>6803.778622</td>\n",
       "      <td>0</td>\n",
       "      <td>0</td>\n",
       "      <td>1</td>\n",
       "      <td>0</td>\n",
       "      <td>0</td>\n",
       "      <td>1</td>\n",
       "    </tr>\n",
       "    <tr>\n",
       "      <th>4</th>\n",
       "      <td>1</td>\n",
       "      <td>0</td>\n",
       "      <td>138</td>\n",
       "      <td>69</td>\n",
       "      <td>462</td>\n",
       "      <td>466</td>\n",
       "      <td>1088124</td>\n",
       "      <td>1086579</td>\n",
       "      <td>251</td>\n",
       "      <td>251.401943</td>\n",
       "      <td>0</td>\n",
       "      <td>0</td>\n",
       "      <td>0</td>\n",
       "      <td>0</td>\n",
       "      <td>0</td>\n",
       "      <td>2</td>\n",
       "    </tr>\n",
       "  </tbody>\n",
       "</table>\n",
       "</div>"
      ],
      "text/plain": [
       "   grade_A_Component_1  grade_A_Component_2  max_luminosity  thickness  xmin  \\\n",
       "0                    0                    1             150         36   144   \n",
       "1                    1                    0             134         55  1144   \n",
       "2                    1                    0             135         65   950   \n",
       "3                    0                    1             123         35    41   \n",
       "4                    1                    0             138         69   462   \n",
       "\n",
       "   xmax     ymin     ymax  pixel_area     log_area  x_component_1  \\\n",
       "0   172   947225   947332         439   439.099273              0   \n",
       "1  1152  2379058  2379624         329   329.205616              1   \n",
       "2   974  1038442  1036754         300   300.120598              0   \n",
       "3   220  1705580  1705604        6803  6803.778622              0   \n",
       "4   466  1088124  1086579         251   251.401943              0   \n",
       "\n",
       "   x_component_2  x_component_3  x_component_4  x_component_5  class  \n",
       "0              0              1              0              0      1  \n",
       "1              0              0              0              0      1  \n",
       "2              0              0              0              0      2  \n",
       "3              0              1              0              0      1  \n",
       "4              0              0              0              0      2  "
      ]
     },
     "execution_count": 2,
     "metadata": {},
     "output_type": "execute_result"
    }
   ],
   "source": [
    "train_df = pd.read_csv('train.csv')\n",
    "test_df = pd.read_csv('test.csv')\n",
    "train_df.head()"
   ]
  },
  {
   "cell_type": "code",
   "execution_count": 4,
   "metadata": {},
   "outputs": [
    {
     "data": {
      "text/plain": [
       "grade_A_Component_1      int64\n",
       "grade_A_Component_2      int64\n",
       "max_luminosity           int64\n",
       "thickness                int64\n",
       "xmin                     int64\n",
       "xmax                     int64\n",
       "ymin                     int64\n",
       "ymax                     int64\n",
       "pixel_area               int64\n",
       "log_area               float64\n",
       "x_component_1            int64\n",
       "x_component_2            int64\n",
       "x_component_3            int64\n",
       "x_component_4            int64\n",
       "x_component_5            int64\n",
       "class                    int64\n",
       "dtype: object"
      ]
     },
     "execution_count": 4,
     "metadata": {},
     "output_type": "execute_result"
    }
   ],
   "source": [
    "train_df.dtypes"
   ]
  },
  {
   "cell_type": "code",
   "execution_count": null,
   "metadata": {
    "scrolled": true
   },
   "outputs": [],
   "source": [
    "for col in train_df.columns:\n",
    "    print(col, train_df[col].unique())"
   ]
  },
  {
   "cell_type": "code",
   "execution_count": 6,
   "metadata": {},
   "outputs": [
    {
     "data": {
      "text/plain": [
       "[]"
      ]
     },
     "execution_count": 6,
     "metadata": {},
     "output_type": "execute_result"
    }
   ],
   "source": [
    "train_df.columns[train_df.isna().any()].to_list()"
   ]
  },
  {
   "cell_type": "markdown",
   "metadata": {},
   "source": [
    "### Univariate and Bivariate Analysis"
   ]
  },
  {
   "cell_type": "code",
   "execution_count": 3,
   "metadata": {},
   "outputs": [],
   "source": [
    "preidictor_columns = list(set(train_df.columns) - set(['class']))"
   ]
  },
  {
   "cell_type": "code",
   "execution_count": 7,
   "metadata": {},
   "outputs": [
    {
     "data": {
      "image/png": "[encoded data removed]",
      "text/plain": [
       "<Figure size 1080x7200 with 30 Axes>"
      ]
     },
     "metadata": {},
     "output_type": "display_data"
    }
   ],
   "source": [
    "fig, ax = plt.subplots(15,2,figsize = (15,100) )\n",
    "i = 0\n",
    "for col in preidictor_columns:\n",
    "    j = 0\n",
    "    ax[i,j].scatter(train_df[col], train_df['class'])\n",
    "    sns.countplot(train_df[col], ax = ax[i,j+1], hue = train_df['class'])\n",
    "    ax[i,j].tick_params(colors='white', labelcolor = 'white')\n",
    "    i+=1\n",
    "plt.show()"
   ]
  },
  {
   "cell_type": "code",
   "execution_count": 14,
   "metadata": {},
   "outputs": [
    {
     "data": {
      "text/plain": [
       "16"
      ]
     },
     "execution_count": 14,
     "metadata": {},
     "output_type": "execute_result"
    }
   ],
   "source": [
    "len(train_df.columns)"
   ]
  },
  {
   "cell_type": "code",
   "execution_count": 13,
   "metadata": {},
   "outputs": [
    {
     "data": {
      "text/plain": [
       "<matplotlib.axes._subplots.AxesSubplot at 0x25c927f24c8>"
      ]
     },
     "execution_count": 13,
     "metadata": {},
     "output_type": "execute_result"
    },
    {
     "data": {
      "image/png": "[encoded data removed]",
      "text/plain": [
       "<Figure size 720x720 with 2 Axes>"
      ]
     },
     "metadata": {},
     "output_type": "display_data"
    }
   ],
   "source": [
    "#There seems to be a correlation between pixel_area and log_area. So find all correlation.\n",
    "sns.set(style=\"white\")\n",
    "corr = train_df.corr()\n",
    "plt.figure(figsize=(10,10))\n",
    "sns.heatmap(corr, vmax=1.0, center=0, fmt='.2f',\n",
    "                square=True, linewidths=.5, annot=True, cbar_kws={\"shrink\": .70})"
   ]
  },
  {
   "cell_type": "markdown",
   "metadata": {},
   "source": [
    "There seems to be correlation with [xmin, xmax], [ymin, ymax], [pixel_area, log_area]\n",
    "And grade_A_Component_1 is the exact opposite of grade_A_Component_2. So any on is enough.\n",
    "So let's remove ['xmax', 'ymax', 'pixel_area', 'grade_A_Component_2']"
   ]
  },
  {
   "cell_type": "markdown",
   "metadata": {},
   "source": [
    "### With selected predictors"
   ]
  },
  {
   "cell_type": "code",
   "execution_count": 4,
   "metadata": {},
   "outputs": [],
   "source": [
    "predictor_columns = list(set(preidictor_columns) - set(['xmax', 'ymax', 'pixel_area', 'grade_A_Component_2']))"
   ]
  },
  {
   "cell_type": "code",
   "execution_count": null,
   "metadata": {},
   "outputs": [],
   "source": [
    "#The classes here are  [1,2]\n",
    "#for the below columns if the values are 1, then the class is also 1. i.e first probability\n",
    "['x_component_1','x_component_2', 'x_component_3', 'x_component_4',  'x_component_5']"
   ]
  },
  {
   "cell_type": "code",
   "execution_count": 63,
   "metadata": {},
   "outputs": [
    {
     "name": "stdout",
     "output_type": "stream",
     "text": [
      "(1358, 11)\n",
      "(583, 11)\n"
     ]
    }
   ],
   "source": [
    "X = train_df[predictor_columns]\n",
    "y = train_df['class']\n",
    "X_test = test_df[predictor_columns]\n",
    "print(X.shape)\n",
    "print(X_test.shape)"
   ]
  },
  {
   "cell_type": "code",
   "execution_count": 16,
   "metadata": {
    "collapsed": true
   },
   "outputs": [
    {
     "data": {
      "text/plain": [
       "['xmin',\n",
       " 'ymin',\n",
       " 'x_component_3',\n",
       " 'x_component_5',\n",
       " 'grade_A_Component_1',\n",
       " 'x_component_1',\n",
       " 'max_luminosity',\n",
       " 'log_area',\n",
       " 'x_component_2',\n",
       " 'x_component_4',\n",
       " 'thickness']"
      ]
     },
     "execution_count": 16,
     "metadata": {},
     "output_type": "execute_result"
    }
   ],
   "source": [
    "predictor_columns"
   ]
  },
  {
   "cell_type": "code",
   "execution_count": 19,
   "metadata": {},
   "outputs": [
    {
     "name": "stdout",
     "output_type": "stream",
     "text": [
      "0    887\n",
      "1    471\n",
      "Name: class, dtype: int64\n"
     ]
    }
   ],
   "source": [
    "y = y-1 #changing grade 1 to 0 and grade 2 to 1\n",
    "print(y.value_counts())"
   ]
  },
  {
   "cell_type": "code",
   "execution_count": 22,
   "metadata": {},
   "outputs": [
    {
     "name": "stdout",
     "output_type": "stream",
     "text": [
      "Score -0.30625639831680485\n",
      "Params {'estimators': 150, 'learning_rate': 0.03, 'max_depth': 13, 'reg_lambda': 0.01}\n"
     ]
    }
   ],
   "source": [
    "#Grid Search CV for XGBoost\n",
    "from xgboost import XGBClassifier\n",
    "from sklearn.model_selection import GridSearchCV\n",
    "classifier_1 = XGBClassifier(random_state = 0)\n",
    "params = {'max_depth' : [13,14,15], 'learning_rate' : [0.01, 0.03, 0.05, 0.1, 0.3, 0.5], \n",
    "         'estimators' : [150, 200, 300, 400], 'reg_lambda' : [0.01,0.03]}\n",
    "grid_1 = GridSearchCV(estimator = classifier_1, param_grid = params, cv = 4, scoring = 'neg_log_loss')\n",
    "grid_1.fit(X,y)\n",
    "print(\"Score\", grid_1.best_score_)\n",
    "print(\"Params\", grid_1.best_params_)"
   ]
  },
  {
   "cell_type": "code",
   "execution_count": 31,
   "metadata": {},
   "outputs": [
    {
     "data": {
      "text/plain": [
       "dict_keys(['mean_fit_time', 'std_fit_time', 'mean_score_time', 'std_score_time', 'param_estimators', 'param_learning_rate', 'param_max_depth', 'param_reg_lambda', 'params', 'split0_test_score', 'split1_test_score', 'split2_test_score', 'split3_test_score', 'mean_test_score', 'std_test_score', 'rank_test_score'])"
      ]
     },
     "execution_count": 31,
     "metadata": {},
     "output_type": "execute_result"
    }
   ],
   "source": [
    "grid_1.cv_results_.keys()"
   ]
  },
  {
   "cell_type": "code",
   "execution_count": null,
   "metadata": {
    "collapsed": true
   },
   "outputs": [],
   "source": [
    "grid_1.cv_results_['mean_test_score']"
   ]
  },
  {
   "cell_type": "code",
   "execution_count": 29,
   "metadata": {},
   "outputs": [
    {
     "data": {
      "text/plain": [
       "array([  6,  42,  78, 114], dtype=int64)"
      ]
     },
     "execution_count": 29,
     "metadata": {},
     "output_type": "execute_result"
    }
   ],
   "source": [
    "np.where(grid_1.cv_results_['mean_test_score'] == -0.30625639831680485)[0]"
   ]
  },
  {
   "cell_type": "code",
   "execution_count": 34,
   "metadata": {},
   "outputs": [
    {
     "name": "stdout",
     "output_type": "stream",
     "text": [
      "{'estimators': 150, 'learning_rate': 0.03, 'max_depth': 13, 'reg_lambda': 0.01}\n",
      "{'estimators': 200, 'learning_rate': 0.03, 'max_depth': 13, 'reg_lambda': 0.01}\n",
      "{'estimators': 300, 'learning_rate': 0.03, 'max_depth': 13, 'reg_lambda': 0.01}\n",
      "{'estimators': 400, 'learning_rate': 0.03, 'max_depth': 13, 'reg_lambda': 0.01}\n"
     ]
    }
   ],
   "source": [
    "print(grid_1.cv_results_['params'][6])\n",
    "print(grid_1.cv_results_['params'][42])\n",
    "print(grid_1.cv_results_['params'][78])\n",
    "print(grid_1.cv_results_['params'][114])"
   ]
  },
  {
   "cell_type": "code",
   "execution_count": 36,
   "metadata": {},
   "outputs": [
    {
     "name": "stdout",
     "output_type": "stream",
     "text": [
      "Score -0.3025410331400577\n",
      "Params {'max_depth': 11}\n"
     ]
    }
   ],
   "source": [
    "params_2 = {'max_depth' : [10,11,12]}\n",
    "classifier_1 = XGBClassifier(random_state = 0, estimators = 150, learning_rate = 0.03, reg_lambda = 0.01)\n",
    "grid_2 = GridSearchCV(estimator = classifier_1, param_grid = params_2, cv = 4, scoring = 'neg_log_loss')\n",
    "grid_2.fit(X,y)\n",
    "print(\"Score\", grid_2.best_score_)\n",
    "print(\"Params\", grid_2.best_params_)"
   ]
  },
  {
   "cell_type": "code",
   "execution_count": 39,
   "metadata": {},
   "outputs": [
    {
     "name": "stdout",
     "output_type": "stream",
     "text": [
      "Score -0.3025410331400577\n",
      "Params {'estimators': 70}\n"
     ]
    }
   ],
   "source": [
    "params_3 = {'estimators' : [70,100, 150]}\n",
    "classifier_1 = XGBClassifier(random_state = 0, learning_rate = 0.03, reg_lambda = 0.01, max_depth = 11)\n",
    "grid_3 = GridSearchCV(estimator = classifier_1, param_grid = params_3, cv = 4, scoring = 'neg_log_loss')\n",
    "grid_3.fit(X,y)\n",
    "print(\"Score\", grid_3.best_score_)\n",
    "print(\"Params\", grid_3.best_params_)"
   ]
  },
  {
   "cell_type": "code",
   "execution_count": 40,
   "metadata": {},
   "outputs": [
    {
     "data": {
      "text/plain": [
       "array([0, 1, 2], dtype=int64)"
      ]
     },
     "execution_count": 40,
     "metadata": {},
     "output_type": "execute_result"
    }
   ],
   "source": [
    "np.where(grid_3.cv_results_['mean_test_score'] == -0.3025410331400577)[0]"
   ]
  },
  {
   "cell_type": "code",
   "execution_count": 42,
   "metadata": {},
   "outputs": [
    {
     "data": {
      "text/plain": [
       "(583, 11)"
      ]
     },
     "execution_count": 42,
     "metadata": {},
     "output_type": "execute_result"
    }
   ],
   "source": [
    "X_test.shape"
   ]
  },
  {
   "cell_type": "code",
   "execution_count": 64,
   "metadata": {},
   "outputs": [
    {
     "data": {
      "text/plain": [
       "-0.3019124455207606"
      ]
     },
     "execution_count": 64,
     "metadata": {},
     "output_type": "execute_result"
    }
   ],
   "source": [
    "classifier_1 = XGBClassifier(random_state = 0, estimators = 70, learning_rate = 0.03, reg_lambda = 0.01,\n",
    "                            max_depth =11)\n",
    "from sklearn.model_selection import cross_val_score\n",
    "scores = cross_val_score(classifier_1, X,y, cv=4, scoring = 'neg_log_loss')\n",
    "scores.mean()"
   ]
  },
  {
   "cell_type": "code",
   "execution_count": 43,
   "metadata": {},
   "outputs": [],
   "source": [
    "#full fit\n",
    "classifier_1 = XGBClassifier(random_state = 0, estimators = 70, learning_rate = 0.03, reg_lambda = 0.01,\n",
    "                            max_depth =11)\n",
    "classifier_1.fit(X,y)\n",
    "predictions_1 = classifier_1.predict_proba(X_test)"
   ]
  },
  {
   "cell_type": "code",
   "execution_count": 44,
   "metadata": {},
   "outputs": [
    {
     "data": {
      "text/plain": [
       "array([[0.9752858 , 0.02471417],\n",
       "       [0.20363194, 0.79636806],\n",
       "       [0.9752647 , 0.02473529],\n",
       "       ...,\n",
       "       [0.9753188 , 0.02468119],\n",
       "       [0.9752647 , 0.02473529],\n",
       "       [0.9697989 , 0.03020108]], dtype=float32)"
      ]
     },
     "execution_count": 44,
     "metadata": {},
     "output_type": "execute_result"
    }
   ],
   "source": [
    "predictions_1"
   ]
  },
  {
   "cell_type": "code",
   "execution_count": 46,
   "metadata": {},
   "outputs": [
    {
     "name": "stdout",
     "output_type": "stream",
     "text": [
      "(583, 2)\n"
     ]
    },
    {
     "data": {
      "text/html": [
       "<div>\n",
       "<style scoped>\n",
       "    .dataframe tbody tr th:only-of-type {\n",
       "        vertical-align: middle;\n",
       "    }\n",
       "\n",
       "    .dataframe tbody tr th {\n",
       "        vertical-align: top;\n",
       "    }\n",
       "\n",
       "    .dataframe thead th {\n",
       "        text-align: right;\n",
       "    }\n",
       "</style>\n",
       "<table border=\"1\" class=\"dataframe\">\n",
       "  <thead>\n",
       "    <tr style=\"text-align: right;\">\n",
       "      <th></th>\n",
       "      <th>1</th>\n",
       "      <th>2</th>\n",
       "    </tr>\n",
       "  </thead>\n",
       "  <tbody>\n",
       "    <tr>\n",
       "      <th>0</th>\n",
       "      <td>0.975286</td>\n",
       "      <td>0.024714</td>\n",
       "    </tr>\n",
       "    <tr>\n",
       "      <th>1</th>\n",
       "      <td>0.203632</td>\n",
       "      <td>0.796368</td>\n",
       "    </tr>\n",
       "    <tr>\n",
       "      <th>2</th>\n",
       "      <td>0.975265</td>\n",
       "      <td>0.024735</td>\n",
       "    </tr>\n",
       "    <tr>\n",
       "      <th>3</th>\n",
       "      <td>0.975319</td>\n",
       "      <td>0.024681</td>\n",
       "    </tr>\n",
       "    <tr>\n",
       "      <th>4</th>\n",
       "      <td>0.520513</td>\n",
       "      <td>0.479487</td>\n",
       "    </tr>\n",
       "  </tbody>\n",
       "</table>\n",
       "</div>"
      ],
      "text/plain": [
       "          1         2\n",
       "0  0.975286  0.024714\n",
       "1  0.203632  0.796368\n",
       "2  0.975265  0.024735\n",
       "3  0.975319  0.024681\n",
       "4  0.520513  0.479487"
      ]
     },
     "execution_count": 46,
     "metadata": {},
     "output_type": "execute_result"
    }
   ],
   "source": [
    "submissions_df = pd.DataFrame({'1':predictions_1[:,0], '2':predictions_1[:,1]})\n",
    "print(submissions_df.shape)\n",
    "submissions_df.head()"
   ]
  },
  {
   "cell_type": "code",
   "execution_count": 47,
   "metadata": {},
   "outputs": [],
   "source": [
    "submissions_df.to_excel('Submissions_xgb.xlsx', index = False)"
   ]
  },
  {
   "cell_type": "markdown",
   "metadata": {},
   "source": [
    "### With all predictors"
   ]
  },
  {
   "cell_type": "code",
   "execution_count": 57,
   "metadata": {},
   "outputs": [
    {
     "data": {
      "text/plain": [
       "['thickness',\n",
       " 'grade_A_Component_1',\n",
       " 'xmin',\n",
       " 'x_component_3',\n",
       " 'log_area',\n",
       " 'max_luminosity',\n",
       " 'x_component_5',\n",
       " 'x_component_2',\n",
       " 'x_component_4',\n",
       " 'ymin',\n",
       " 'x_component_1',\n",
       " 'xmax',\n",
       " 'ymax',\n",
       " 'pixel_area']"
      ]
     },
     "execution_count": 57,
     "metadata": {},
     "output_type": "execute_result"
    }
   ],
   "source": [
    "all_predictor_columns = predictor_columns + ['xmax', 'ymax', 'pixel_area']\n",
    "all_predictor_columns"
   ]
  },
  {
   "cell_type": "code",
   "execution_count": 58,
   "metadata": {},
   "outputs": [
    {
     "name": "stdout",
     "output_type": "stream",
     "text": [
      "(1358, 14)\n",
      "(583, 14)\n"
     ]
    }
   ],
   "source": [
    "X = train_df[all_predictor_columns]\n",
    "y = train_df['class']\n",
    "y = y-1\n",
    "X_test = test_df[all_predictor_columns]\n",
    "print(X.shape)\n",
    "print(X_test.shape)"
   ]
  },
  {
   "cell_type": "code",
   "execution_count": 55,
   "metadata": {},
   "outputs": [
    {
     "name": "stdout",
     "output_type": "stream",
     "text": [
      "Score -0.2994501299431399\n",
      "Params {'estimators': 70, 'learning_rate': 0.05, 'max_depth': 10, 'reg_lambda': 0.01}\n"
     ]
    }
   ],
   "source": [
    "#Grid Search CV for XGBoost\n",
    "from xgboost import XGBClassifier\n",
    "from sklearn.model_selection import GridSearchCV\n",
    "classifier_2 = XGBClassifier(random_state = 0)\n",
    "params = {'max_depth' : [10,11], 'learning_rate' : [0.01, 0.03, 0.05], \n",
    "         'estimators' : [70,100,150], 'reg_lambda' : [0.01,0.03]}\n",
    "grid_4 = GridSearchCV(estimator = classifier_2, param_grid = params, cv = 4, scoring = 'neg_log_loss')\n",
    "grid_4.fit(X,y)\n",
    "print(\"Score\", grid_4.best_score_)\n",
    "print(\"Params\", grid_4.best_params_)"
   ]
  },
  {
   "cell_type": "code",
   "execution_count": 61,
   "metadata": {},
   "outputs": [
    {
     "data": {
      "text/plain": [
       "-0.30304434361700894"
      ]
     },
     "execution_count": 61,
     "metadata": {},
     "output_type": "execute_result"
    }
   ],
   "source": [
    "classifier_2 = XGBClassifier(random_state = 0, estimators = 70, learning_rate= 0.05, max_depth= 10, reg_lambda= 0.01)\n",
    "from sklearn.model_selection import cross_val_score\n",
    "scores = cross_val_score(classifier_2, X,y, cv=4, scoring = 'neg_log_loss')\n",
    "scores.mean()"
   ]
  },
  {
   "cell_type": "code",
   "execution_count": 56,
   "metadata": {},
   "outputs": [
    {
     "data": {
      "text/plain": [
       "array([[0.9934881 , 0.00651195],\n",
       "       [0.15878183, 0.8412182 ],\n",
       "       [0.9921656 , 0.00783438],\n",
       "       ...,\n",
       "       [0.9961069 , 0.0038931 ],\n",
       "       [0.9876972 , 0.0123028 ],\n",
       "       [0.9844913 , 0.01550872]], dtype=float32)"
      ]
     },
     "execution_count": 56,
     "metadata": {},
     "output_type": "execute_result"
    }
   ],
   "source": [
    "classifier_2 = XGBClassifier(random_state = 0, estimators = 70, learning_rate= 0.05, max_depth= 10, reg_lambda= 0.01)\n",
    "classifier_2.fit(X,y)\n",
    "predictions_2 = classifier_2.predict_proba(X_test)\n",
    "predictions_2"
   ]
  },
  {
   "cell_type": "code",
   "execution_count": 65,
   "metadata": {
    "collapsed": true
   },
   "outputs": [
    {
     "data": {
      "text/plain": [
       "pixel_area             0.000000\n",
       "ymax                   0.015449\n",
       "log_area               0.017467\n",
       "xmin                   0.019080\n",
       "xmax                   0.019989\n",
       "ymin                   0.022062\n",
       "max_luminosity         0.022149\n",
       "thickness              0.034295\n",
       "grade_A_Component_1    0.066098\n",
       "x_component_5          0.091916\n",
       "x_component_4          0.100814\n",
       "x_component_2          0.180907\n",
       "x_component_1          0.185153\n",
       "x_component_3          0.224622\n",
       "dtype: float32"
      ]
     },
     "execution_count": 65,
     "metadata": {},
     "output_type": "execute_result"
    }
   ],
   "source": [
    "pd.Series(index = all_predictor_columns, data = classifier_2.feature_importances_).sort_values()"
   ]
  },
  {
   "cell_type": "code",
   "execution_count": 57,
   "metadata": {
    "collapsed": true
   },
   "outputs": [
    {
     "name": "stdout",
     "output_type": "stream",
     "text": [
      "(583, 2)\n"
     ]
    },
    {
     "data": {
      "text/html": [
       "<div>\n",
       "<style scoped>\n",
       "    .dataframe tbody tr th:only-of-type {\n",
       "        vertical-align: middle;\n",
       "    }\n",
       "\n",
       "    .dataframe tbody tr th {\n",
       "        vertical-align: top;\n",
       "    }\n",
       "\n",
       "    .dataframe thead th {\n",
       "        text-align: right;\n",
       "    }\n",
       "</style>\n",
       "<table border=\"1\" class=\"dataframe\">\n",
       "  <thead>\n",
       "    <tr style=\"text-align: right;\">\n",
       "      <th></th>\n",
       "      <th>1</th>\n",
       "      <th>2</th>\n",
       "    </tr>\n",
       "  </thead>\n",
       "  <tbody>\n",
       "    <tr>\n",
       "      <th>0</th>\n",
       "      <td>0.993488</td>\n",
       "      <td>0.006512</td>\n",
       "    </tr>\n",
       "    <tr>\n",
       "      <th>1</th>\n",
       "      <td>0.158782</td>\n",
       "      <td>0.841218</td>\n",
       "    </tr>\n",
       "    <tr>\n",
       "      <th>2</th>\n",
       "      <td>0.992166</td>\n",
       "      <td>0.007834</td>\n",
       "    </tr>\n",
       "    <tr>\n",
       "      <th>3</th>\n",
       "      <td>0.996293</td>\n",
       "      <td>0.003707</td>\n",
       "    </tr>\n",
       "    <tr>\n",
       "      <th>4</th>\n",
       "      <td>0.494410</td>\n",
       "      <td>0.505590</td>\n",
       "    </tr>\n",
       "  </tbody>\n",
       "</table>\n",
       "</div>"
      ],
      "text/plain": [
       "          1         2\n",
       "0  0.993488  0.006512\n",
       "1  0.158782  0.841218\n",
       "2  0.992166  0.007834\n",
       "3  0.996293  0.003707\n",
       "4  0.494410  0.505590"
      ]
     },
     "execution_count": 57,
     "metadata": {},
     "output_type": "execute_result"
    }
   ],
   "source": [
    "submissions_df_2 = pd.DataFrame({'1':predictions_2[:,0], '2':predictions_2[:,1]})\n",
    "print(submissions_df_2.shape)\n",
    "submissions_df_2.head()"
   ]
  },
  {
   "cell_type": "code",
   "execution_count": 66,
   "metadata": {},
   "outputs": [],
   "source": [
    "submissions_df_2.to_excel('Submissions_xgb_2.xlsx', index = False)"
   ]
  },
  {
   "cell_type": "code",
   "execution_count": 69,
   "metadata": {},
   "outputs": [
    {
     "name": "stdout",
     "output_type": "stream",
     "text": [
      "0.0065332449180637514\n",
      "0.02502469273283979\n"
     ]
    }
   ],
   "source": [
    "from sklearn.metrics import log_loss\n",
    "print(log_loss([0], [[0.9934881 , 0.00651195]], labels = [0,1]))\n",
    "print(log_loss([0], [[0.9752858 , 0.02471417]], labels = [0,1]))"
   ]
  },
  {
   "cell_type": "markdown",
   "metadata": {},
   "source": [
    "#### The one with all predictors is useless. Because they just decrease the accuracy. Causes overfit"
   ]
  },
  {
   "cell_type": "markdown",
   "metadata": {},
   "source": [
    "### Try with filter"
   ]
  },
  {
   "cell_type": "code",
   "execution_count": 6,
   "metadata": {},
   "outputs": [],
   "source": [
    "filtered_with_1_train = train_df[(train_df['x_component_1'] == 1) | (train_df['x_component_2'] == 1) | (train_df['x_component_3'] == 1 ) | (train_df['x_component_4'] == 1) | (train_df['x_component_5'] == 1)]      "
   ]
  },
  {
   "cell_type": "code",
   "execution_count": 7,
   "metadata": {},
   "outputs": [
    {
     "data": {
      "text/plain": [
       "(609, 16)"
      ]
     },
     "execution_count": 7,
     "metadata": {},
     "output_type": "execute_result"
    }
   ],
   "source": [
    "filtered_with_1_train.shape"
   ]
  },
  {
   "cell_type": "code",
   "execution_count": 8,
   "metadata": {},
   "outputs": [],
   "source": [
    "filtered_with_1_test = test_df[(test_df['x_component_1'] == 1) | (test_df['x_component_2'] == 1) | (test_df['x_component_3'] == 1 ) | (test_df['x_component_4'] == 1) | (test_df['x_component_5'] == 1)] "
   ]
  },
  {
   "cell_type": "code",
   "execution_count": 9,
   "metadata": {},
   "outputs": [
    {
     "data": {
      "text/plain": [
       "(257, 15)"
      ]
     },
     "execution_count": 9,
     "metadata": {},
     "output_type": "execute_result"
    }
   ],
   "source": [
    "filtered_with_1_test.shape"
   ]
  },
  {
   "cell_type": "code",
   "execution_count": 77,
   "metadata": {},
   "outputs": [
    {
     "name": "stdout",
     "output_type": "stream",
     "text": [
      "(1358, 11)\n",
      "(583, 11)\n"
     ]
    }
   ],
   "source": [
    "X = train_df[predictor_columns]\n",
    "y = train_df['class']\n",
    "y=y-1\n",
    "X_test = test_df[predictor_columns]\n",
    "print(X.shape)\n",
    "print(X_test.shape)"
   ]
  },
  {
   "cell_type": "code",
   "execution_count": 78,
   "metadata": {},
   "outputs": [],
   "source": [
    "#full fit\n",
    "classifier_1 = XGBClassifier(random_state = 0, estimators = 70, learning_rate = 0.03, reg_lambda = 0.01,\n",
    "                            max_depth =11)\n",
    "classifier_1.fit(X,y)\n",
    "predictions_3 = classifier_1.predict_proba(X_test)  "
   ]
  },
  {
   "cell_type": "markdown",
   "metadata": {},
   "source": [
    "#### The best until now"
   ]
  },
  {
   "cell_type": "code",
   "execution_count": null,
   "metadata": {},
   "outputs": [],
   "source": [
    "pd.Series(index = predictor_columns, data = classifier_1.feature_importances_).sort_values()"
   ]
  },
  {
   "cell_type": "code",
   "execution_count": 79,
   "metadata": {},
   "outputs": [
    {
     "data": {
      "text/plain": [
       "array([[0.9752858 , 0.02471417],\n",
       "       [0.20363194, 0.79636806],\n",
       "       [0.9752647 , 0.02473529],\n",
       "       ...,\n",
       "       [0.9753188 , 0.02468119],\n",
       "       [0.9752647 , 0.02473529],\n",
       "       [0.9697989 , 0.03020108]], dtype=float32)"
      ]
     },
     "execution_count": 79,
     "metadata": {},
     "output_type": "execute_result"
    }
   ],
   "source": [
    "predictions_3"
   ]
  },
  {
   "cell_type": "code",
   "execution_count": 81,
   "metadata": {},
   "outputs": [
    {
     "name": "stdout",
     "output_type": "stream",
     "text": [
      "(583, 2)\n"
     ]
    },
    {
     "data": {
      "text/html": [
       "<div>\n",
       "<style scoped>\n",
       "    .dataframe tbody tr th:only-of-type {\n",
       "        vertical-align: middle;\n",
       "    }\n",
       "\n",
       "    .dataframe tbody tr th {\n",
       "        vertical-align: top;\n",
       "    }\n",
       "\n",
       "    .dataframe thead th {\n",
       "        text-align: right;\n",
       "    }\n",
       "</style>\n",
       "<table border=\"1\" class=\"dataframe\">\n",
       "  <thead>\n",
       "    <tr style=\"text-align: right;\">\n",
       "      <th></th>\n",
       "      <th>1</th>\n",
       "      <th>2</th>\n",
       "    </tr>\n",
       "  </thead>\n",
       "  <tbody>\n",
       "    <tr>\n",
       "      <th>0</th>\n",
       "      <td>1.000000</td>\n",
       "      <td>0.000000</td>\n",
       "    </tr>\n",
       "    <tr>\n",
       "      <th>1</th>\n",
       "      <td>0.203632</td>\n",
       "      <td>0.796368</td>\n",
       "    </tr>\n",
       "    <tr>\n",
       "      <th>2</th>\n",
       "      <td>1.000000</td>\n",
       "      <td>0.000000</td>\n",
       "    </tr>\n",
       "    <tr>\n",
       "      <th>3</th>\n",
       "      <td>1.000000</td>\n",
       "      <td>0.000000</td>\n",
       "    </tr>\n",
       "    <tr>\n",
       "      <th>4</th>\n",
       "      <td>0.520513</td>\n",
       "      <td>0.479487</td>\n",
       "    </tr>\n",
       "  </tbody>\n",
       "</table>\n",
       "</div>"
      ],
      "text/plain": [
       "          1         2\n",
       "0  1.000000  0.000000\n",
       "1  0.203632  0.796368\n",
       "2  1.000000  0.000000\n",
       "3  1.000000  0.000000\n",
       "4  0.520513  0.479487"
      ]
     },
     "execution_count": 81,
     "metadata": {},
     "output_type": "execute_result"
    }
   ],
   "source": [
    "submissions_df_3 = pd.DataFrame({'1':predictions_3[:,0], '2':predictions_3[:,1]})\n",
    "submissions_df_3.loc[filtered_with_1_test.index, '1'] = 1\n",
    "submissions_df_3.loc[filtered_with_1_test.index, '2'] = 0\n",
    "print(submissions_df_3.shape)\n",
    "submissions_df_3.head()"
   ]
  },
  {
   "cell_type": "code",
   "execution_count": 82,
   "metadata": {},
   "outputs": [],
   "source": [
    "submissions_df_3.to_excel('Submissions_xgb_with_filter.xlsx', index = False)"
   ]
  },
  {
   "cell_type": "code",
   "execution_count": 107,
   "metadata": {},
   "outputs": [
    {
     "data": {
      "text/html": [
       "<div>\n",
       "<style scoped>\n",
       "    .dataframe tbody tr th:only-of-type {\n",
       "        vertical-align: middle;\n",
       "    }\n",
       "\n",
       "    .dataframe tbody tr th {\n",
       "        vertical-align: top;\n",
       "    }\n",
       "\n",
       "    .dataframe thead th {\n",
       "        text-align: right;\n",
       "    }\n",
       "</style>\n",
       "<table border=\"1\" class=\"dataframe\">\n",
       "  <thead>\n",
       "    <tr style=\"text-align: right;\">\n",
       "      <th></th>\n",
       "      <th>1</th>\n",
       "      <th>2</th>\n",
       "    </tr>\n",
       "  </thead>\n",
       "  <tbody>\n",
       "    <tr>\n",
       "      <th>0</th>\n",
       "      <td>0.993488</td>\n",
       "      <td>0.006512</td>\n",
       "    </tr>\n",
       "    <tr>\n",
       "      <th>1</th>\n",
       "      <td>0.158782</td>\n",
       "      <td>0.841218</td>\n",
       "    </tr>\n",
       "    <tr>\n",
       "      <th>2</th>\n",
       "      <td>0.992166</td>\n",
       "      <td>0.007834</td>\n",
       "    </tr>\n",
       "    <tr>\n",
       "      <th>3</th>\n",
       "      <td>0.996293</td>\n",
       "      <td>0.003707</td>\n",
       "    </tr>\n",
       "    <tr>\n",
       "      <th>4</th>\n",
       "      <td>0.494410</td>\n",
       "      <td>0.505590</td>\n",
       "    </tr>\n",
       "  </tbody>\n",
       "</table>\n",
       "</div>"
      ],
      "text/plain": [
       "          1         2\n",
       "0  0.993488  0.006512\n",
       "1  0.158782  0.841218\n",
       "2  0.992166  0.007834\n",
       "3  0.996293  0.003707\n",
       "4  0.494410  0.505590"
      ]
     },
     "execution_count": 107,
     "metadata": {},
     "output_type": "execute_result"
    }
   ],
   "source": [
    "submissions_df_2.head()"
   ]
  },
  {
   "cell_type": "markdown",
   "metadata": {},
   "source": [
    "### Adding Features"
   ]
  },
  {
   "cell_type": "code",
   "execution_count": 86,
   "metadata": {},
   "outputs": [
    {
     "data": {
      "text/plain": [
       "['xmin',\n",
       " 'ymin',\n",
       " 'x_component_3',\n",
       " 'x_component_5',\n",
       " 'grade_A_Component_1',\n",
       " 'x_component_1',\n",
       " 'max_luminosity',\n",
       " 'log_area',\n",
       " 'x_component_2',\n",
       " 'x_component_4',\n",
       " 'thickness']"
      ]
     },
     "execution_count": 86,
     "metadata": {},
     "output_type": "execute_result"
    }
   ],
   "source": [
    "predictor_columns['max_luminosity'],predictor_columns['thickness']"
   ]
  },
  {
   "cell_type": "code",
   "execution_count": 91,
   "metadata": {},
   "outputs": [
    {
     "data": {
      "text/plain": [
       "<matplotlib.collections.PathCollection at 0x25c971bbb08>"
      ]
     },
     "execution_count": 91,
     "metadata": {},
     "output_type": "execute_result"
    },
    {
     "data": {
      "image/png": "[encoded data removed]",
      "text/plain": [
       "<Figure size 432x288 with 1 Axes>"
      ]
     },
     "metadata": {},
     "output_type": "display_data"
    }
   ],
   "source": [
    "plt.scatter(train_df['max_luminosity']*train_df['thickness'], train_df['class'])"
   ]
  },
  {
   "cell_type": "code",
   "execution_count": 50,
   "metadata": {},
   "outputs": [
    {
     "name": "stdout",
     "output_type": "stream",
     "text": [
      "(1358, 12)\n",
      "(583, 12)\n"
     ]
    },
    {
     "name": "stderr",
     "output_type": "stream",
     "text": [
      "C:\\Users\\haripriyar\\Anaconda3\\lib\\site-packages\\ipykernel_launcher.py:2: SettingWithCopyWarning: \n",
      "A value is trying to be set on a copy of a slice from a DataFrame.\n",
      "Try using .loc[row_indexer,col_indexer] = value instead\n",
      "\n",
      "See the caveats in the documentation: https://pandas.pydata.org/pandas-docs/stable/user_guide/indexing.html#returning-a-view-versus-a-copy\n",
      "  \n",
      "C:\\Users\\haripriyar\\Anaconda3\\lib\\site-packages\\ipykernel_launcher.py:6: SettingWithCopyWarning: \n",
      "A value is trying to be set on a copy of a slice from a DataFrame.\n",
      "Try using .loc[row_indexer,col_indexer] = value instead\n",
      "\n",
      "See the caveats in the documentation: https://pandas.pydata.org/pandas-docs/stable/user_guide/indexing.html#returning-a-view-versus-a-copy\n",
      "  \n"
     ]
    }
   ],
   "source": [
    "X = train_df[predictor_columns]\n",
    "X['lum_x_thick'] = X['max_luminosity']*X['thickness']\n",
    "y = train_df['class']\n",
    "y=y-1\n",
    "X_test = test_df[predictor_columns]\n",
    "X_test['lum_x_thick'] = X_test['max_luminosity']*X_test['thickness']\n",
    "print(X.shape)\n",
    "print(X_test.shape)"
   ]
  },
  {
   "cell_type": "code",
   "execution_count": 51,
   "metadata": {},
   "outputs": [
    {
     "data": {
      "text/html": [
       "<div>\n",
       "<style scoped>\n",
       "    .dataframe tbody tr th:only-of-type {\n",
       "        vertical-align: middle;\n",
       "    }\n",
       "\n",
       "    .dataframe tbody tr th {\n",
       "        vertical-align: top;\n",
       "    }\n",
       "\n",
       "    .dataframe thead th {\n",
       "        text-align: right;\n",
       "    }\n",
       "</style>\n",
       "<table border=\"1\" class=\"dataframe\">\n",
       "  <thead>\n",
       "    <tr style=\"text-align: right;\">\n",
       "      <th></th>\n",
       "      <th>thickness</th>\n",
       "      <th>grade_A_Component_1</th>\n",
       "      <th>xmin</th>\n",
       "      <th>x_component_3</th>\n",
       "      <th>log_area</th>\n",
       "      <th>max_luminosity</th>\n",
       "      <th>x_component_5</th>\n",
       "      <th>x_component_2</th>\n",
       "      <th>x_component_4</th>\n",
       "      <th>ymin</th>\n",
       "      <th>x_component_1</th>\n",
       "      <th>lum_x_thick</th>\n",
       "    </tr>\n",
       "  </thead>\n",
       "  <tbody>\n",
       "    <tr>\n",
       "      <th>0</th>\n",
       "      <td>36</td>\n",
       "      <td>0</td>\n",
       "      <td>144</td>\n",
       "      <td>1</td>\n",
       "      <td>439.099273</td>\n",
       "      <td>150</td>\n",
       "      <td>0</td>\n",
       "      <td>0</td>\n",
       "      <td>0</td>\n",
       "      <td>947225</td>\n",
       "      <td>0</td>\n",
       "      <td>5400</td>\n",
       "    </tr>\n",
       "    <tr>\n",
       "      <th>1</th>\n",
       "      <td>55</td>\n",
       "      <td>1</td>\n",
       "      <td>1144</td>\n",
       "      <td>0</td>\n",
       "      <td>329.205616</td>\n",
       "      <td>134</td>\n",
       "      <td>0</td>\n",
       "      <td>0</td>\n",
       "      <td>0</td>\n",
       "      <td>2379058</td>\n",
       "      <td>1</td>\n",
       "      <td>7370</td>\n",
       "    </tr>\n",
       "    <tr>\n",
       "      <th>2</th>\n",
       "      <td>65</td>\n",
       "      <td>1</td>\n",
       "      <td>950</td>\n",
       "      <td>0</td>\n",
       "      <td>300.120598</td>\n",
       "      <td>135</td>\n",
       "      <td>0</td>\n",
       "      <td>0</td>\n",
       "      <td>0</td>\n",
       "      <td>1038442</td>\n",
       "      <td>0</td>\n",
       "      <td>8775</td>\n",
       "    </tr>\n",
       "    <tr>\n",
       "      <th>3</th>\n",
       "      <td>35</td>\n",
       "      <td>0</td>\n",
       "      <td>41</td>\n",
       "      <td>1</td>\n",
       "      <td>6803.778622</td>\n",
       "      <td>123</td>\n",
       "      <td>0</td>\n",
       "      <td>0</td>\n",
       "      <td>0</td>\n",
       "      <td>1705580</td>\n",
       "      <td>0</td>\n",
       "      <td>4305</td>\n",
       "    </tr>\n",
       "    <tr>\n",
       "      <th>4</th>\n",
       "      <td>69</td>\n",
       "      <td>1</td>\n",
       "      <td>462</td>\n",
       "      <td>0</td>\n",
       "      <td>251.401943</td>\n",
       "      <td>138</td>\n",
       "      <td>0</td>\n",
       "      <td>0</td>\n",
       "      <td>0</td>\n",
       "      <td>1088124</td>\n",
       "      <td>0</td>\n",
       "      <td>9522</td>\n",
       "    </tr>\n",
       "  </tbody>\n",
       "</table>\n",
       "</div>"
      ],
      "text/plain": [
       "   thickness  grade_A_Component_1  xmin  x_component_3     log_area  \\\n",
       "0         36                    0   144              1   439.099273   \n",
       "1         55                    1  1144              0   329.205616   \n",
       "2         65                    1   950              0   300.120598   \n",
       "3         35                    0    41              1  6803.778622   \n",
       "4         69                    1   462              0   251.401943   \n",
       "\n",
       "   max_luminosity  x_component_5  x_component_2  x_component_4     ymin  \\\n",
       "0             150              0              0              0   947225   \n",
       "1             134              0              0              0  2379058   \n",
       "2             135              0              0              0  1038442   \n",
       "3             123              0              0              0  1705580   \n",
       "4             138              0              0              0  1088124   \n",
       "\n",
       "   x_component_1  lum_x_thick  \n",
       "0              0         5400  \n",
       "1              1         7370  \n",
       "2              0         8775  \n",
       "3              0         4305  \n",
       "4              0         9522  "
      ]
     },
     "execution_count": 51,
     "metadata": {},
     "output_type": "execute_result"
    }
   ],
   "source": [
    "X.head()"
   ]
  },
  {
   "cell_type": "code",
   "execution_count": 95,
   "metadata": {},
   "outputs": [
    {
     "name": "stdout",
     "output_type": "stream",
     "text": [
      "Score -0.2993791913442039\n",
      "Params {'learning_rate': 0.05, 'max_depth': 10, 'n_estimators': 100, 'reg_lambda': 0.01}\n"
     ]
    }
   ],
   "source": [
    "#Correct Grid Search with XGBoost\n",
    "from xgboost import XGBClassifier\n",
    "from sklearn.model_selection import GridSearchCV\n",
    "params = {'max_depth' : [10,11,12,13], 'learning_rate' : [0.01, 0.03, 0.05, 0.1], \n",
    "         'n_estimators' : [70,100,200], 'reg_lambda' : [0.01,0.03]}\n",
    "classifier_5 = XGBClassifier(random_state = 0)\n",
    "grid_5 = GridSearchCV(estimator = classifier_5, param_grid = params, cv = 4, scoring = 'neg_log_loss')\n",
    "grid_5.fit(X,y)\n",
    "print(\"Score\", grid_5.best_score_)\n",
    "print(\"Params\", grid_5.best_params_)"
   ]
  },
  {
   "cell_type": "code",
   "execution_count": 56,
   "metadata": {},
   "outputs": [
    {
     "data": {
      "text/plain": [
       "-0.3034310647837958"
      ]
     },
     "execution_count": 56,
     "metadata": {},
     "output_type": "execute_result"
    }
   ],
   "source": [
    "classifier_5 = XGBClassifier(random_state = 0, learning_rate = 0.05, max_depth = 10, n_estimators = 100, reg_lambda = 0.01)\n",
    "from sklearn.model_selection import cross_val_score\n",
    "scores = cross_val_score(classifier_5, X,y, cv=4, scoring = 'neg_log_loss')\n",
    "scores.mean()"
   ]
  },
  {
   "cell_type": "code",
   "execution_count": 55,
   "metadata": {},
   "outputs": [],
   "source": [
    "classifier_5.fit(X,y)\n",
    "predictions_5 = classifier_5.predict_proba(X_test)"
   ]
  },
  {
   "cell_type": "code",
   "execution_count": 100,
   "metadata": {},
   "outputs": [
    {
     "data": {
      "text/plain": [
       "log_area               0.018476\n",
       "xmin                   0.020668\n",
       "max_luminosity         0.022065\n",
       "ymin                   0.023379\n",
       "thickness              0.025909\n",
       "lum_x_thick            0.036240\n",
       "grade_A_Component_1    0.070425\n",
       "x_component_5          0.081754\n",
       "x_component_4          0.096676\n",
       "x_component_2          0.186552\n",
       "x_component_1          0.188942\n",
       "x_component_3          0.228915\n",
       "dtype: float32"
      ]
     },
     "execution_count": 100,
     "metadata": {},
     "output_type": "execute_result"
    }
   ],
   "source": [
    "pd.Series(index = predictor_columns + ['lum_x_thick'], data = classifier_5.feature_importances_).sort_values()"
   ]
  },
  {
   "cell_type": "code",
   "execution_count": 105,
   "metadata": {},
   "outputs": [
    {
     "data": {
      "text/plain": [
       "array([[0.9936301 , 0.00636988],\n",
       "       [0.35921174, 0.64078826],\n",
       "       [0.99084127, 0.00915872],\n",
       "       ...,\n",
       "       [0.99616843, 0.00383159],\n",
       "       [0.9840306 , 0.0159694 ],\n",
       "       [0.9806322 , 0.01936782]], dtype=float32)"
      ]
     },
     "execution_count": 105,
     "metadata": {},
     "output_type": "execute_result"
    }
   ],
   "source": [
    "predictions_5"
   ]
  },
  {
   "cell_type": "code",
   "execution_count": 104,
   "metadata": {},
   "outputs": [
    {
     "name": "stdout",
     "output_type": "stream",
     "text": [
      "(583, 2)\n"
     ]
    },
    {
     "data": {
      "text/html": [
       "<div>\n",
       "<style scoped>\n",
       "    .dataframe tbody tr th:only-of-type {\n",
       "        vertical-align: middle;\n",
       "    }\n",
       "\n",
       "    .dataframe tbody tr th {\n",
       "        vertical-align: top;\n",
       "    }\n",
       "\n",
       "    .dataframe thead th {\n",
       "        text-align: right;\n",
       "    }\n",
       "</style>\n",
       "<table border=\"1\" class=\"dataframe\">\n",
       "  <thead>\n",
       "    <tr style=\"text-align: right;\">\n",
       "      <th></th>\n",
       "      <th>1</th>\n",
       "      <th>2</th>\n",
       "    </tr>\n",
       "  </thead>\n",
       "  <tbody>\n",
       "    <tr>\n",
       "      <th>0</th>\n",
       "      <td>1.000000</td>\n",
       "      <td>0.000000</td>\n",
       "    </tr>\n",
       "    <tr>\n",
       "      <th>1</th>\n",
       "      <td>0.359212</td>\n",
       "      <td>0.640788</td>\n",
       "    </tr>\n",
       "    <tr>\n",
       "      <th>2</th>\n",
       "      <td>1.000000</td>\n",
       "      <td>0.000000</td>\n",
       "    </tr>\n",
       "    <tr>\n",
       "      <th>3</th>\n",
       "      <td>1.000000</td>\n",
       "      <td>0.000000</td>\n",
       "    </tr>\n",
       "    <tr>\n",
       "      <th>4</th>\n",
       "      <td>0.500105</td>\n",
       "      <td>0.499895</td>\n",
       "    </tr>\n",
       "  </tbody>\n",
       "</table>\n",
       "</div>"
      ],
      "text/plain": [
       "          1         2\n",
       "0  1.000000  0.000000\n",
       "1  0.359212  0.640788\n",
       "2  1.000000  0.000000\n",
       "3  1.000000  0.000000\n",
       "4  0.500105  0.499895"
      ]
     },
     "execution_count": 104,
     "metadata": {},
     "output_type": "execute_result"
    }
   ],
   "source": [
    "submissions_df_5 = pd.DataFrame({'1':predictions_5[:,0], '2':predictions_5[:,1]})\n",
    "submissions_df_5.loc[filtered_with_1_test.index, '1'] = 1\n",
    "submissions_df_5.loc[filtered_with_1_test.index, '2'] = 0\n",
    "print(submissions_df_5.shape)\n",
    "submissions_df_5.head()"
   ]
  },
  {
   "cell_type": "code",
   "execution_count": 108,
   "metadata": {},
   "outputs": [],
   "source": [
    "submissions_df_5.to_excel('Submissions_with_added_feature.xlsx', index = False)"
   ]
  },
  {
   "cell_type": "markdown",
   "metadata": {},
   "source": [
    "#### It did not do any good."
   ]
  },
  {
   "cell_type": "code",
   "execution_count": 109,
   "metadata": {},
   "outputs": [
    {
     "name": "stdout",
     "output_type": "stream",
     "text": [
      "(1358, 11)\n",
      "(583, 11)\n"
     ]
    }
   ],
   "source": [
    "X = train_df[predictor_columns]\n",
    "y = train_df['class']\n",
    "y=y-1\n",
    "X_test = test_df[predictor_columns]\n",
    "print(X.shape)\n",
    "print(X_test.shape)"
   ]
  },
  {
   "cell_type": "code",
   "execution_count": 113,
   "metadata": {},
   "outputs": [],
   "source": [
    "#full fit\n",
    "classifier_1 = XGBClassifier(random_state = 0, n_estimators = 100, learning_rate = 0.05, reg_lambda = 0.01,\n",
    "                            max_depth =11)\n",
    "classifier_1.fit(X,y)\n",
    "predictions_6 = classifier_1.predict_proba(X_test)"
   ]
  },
  {
   "cell_type": "code",
   "execution_count": 114,
   "metadata": {},
   "outputs": [
    {
     "data": {
      "text/plain": [
       "log_area               0.017111\n",
       "max_luminosity         0.019195\n",
       "xmin                   0.020452\n",
       "ymin                   0.021017\n",
       "thickness              0.029787\n",
       "grade_A_Component_1    0.075192\n",
       "x_component_5          0.097982\n",
       "x_component_4          0.107147\n",
       "x_component_2          0.188995\n",
       "x_component_1          0.191693\n",
       "x_component_3          0.231429\n",
       "dtype: float32"
      ]
     },
     "execution_count": 114,
     "metadata": {},
     "output_type": "execute_result"
    }
   ],
   "source": [
    "pd.Series(index = predictor_columns , data = classifier_1.feature_importances_).sort_values()"
   ]
  },
  {
   "cell_type": "code",
   "execution_count": 115,
   "metadata": {},
   "outputs": [
    {
     "data": {
      "text/plain": [
       "array([[0.99415225, 0.00584776],\n",
       "       [0.23917806, 0.76082194],\n",
       "       [0.99297976, 0.00702022],\n",
       "       ...,\n",
       "       [0.9961943 , 0.00380568],\n",
       "       [0.9875819 , 0.01241812],\n",
       "       [0.9747299 , 0.02527009]], dtype=float32)"
      ]
     },
     "execution_count": 115,
     "metadata": {},
     "output_type": "execute_result"
    }
   ],
   "source": [
    "predictions_6 "
   ]
  },
  {
   "cell_type": "code",
   "execution_count": 116,
   "metadata": {},
   "outputs": [
    {
     "name": "stdout",
     "output_type": "stream",
     "text": [
      "(583, 2)\n"
     ]
    },
    {
     "data": {
      "text/html": [
       "<div>\n",
       "<style scoped>\n",
       "    .dataframe tbody tr th:only-of-type {\n",
       "        vertical-align: middle;\n",
       "    }\n",
       "\n",
       "    .dataframe tbody tr th {\n",
       "        vertical-align: top;\n",
       "    }\n",
       "\n",
       "    .dataframe thead th {\n",
       "        text-align: right;\n",
       "    }\n",
       "</style>\n",
       "<table border=\"1\" class=\"dataframe\">\n",
       "  <thead>\n",
       "    <tr style=\"text-align: right;\">\n",
       "      <th></th>\n",
       "      <th>1</th>\n",
       "      <th>2</th>\n",
       "    </tr>\n",
       "  </thead>\n",
       "  <tbody>\n",
       "    <tr>\n",
       "      <th>0</th>\n",
       "      <td>1.000000</td>\n",
       "      <td>0.000000</td>\n",
       "    </tr>\n",
       "    <tr>\n",
       "      <th>1</th>\n",
       "      <td>0.239178</td>\n",
       "      <td>0.760822</td>\n",
       "    </tr>\n",
       "    <tr>\n",
       "      <th>2</th>\n",
       "      <td>1.000000</td>\n",
       "      <td>0.000000</td>\n",
       "    </tr>\n",
       "    <tr>\n",
       "      <th>3</th>\n",
       "      <td>1.000000</td>\n",
       "      <td>0.000000</td>\n",
       "    </tr>\n",
       "    <tr>\n",
       "      <th>4</th>\n",
       "      <td>0.700137</td>\n",
       "      <td>0.299863</td>\n",
       "    </tr>\n",
       "  </tbody>\n",
       "</table>\n",
       "</div>"
      ],
      "text/plain": [
       "          1         2\n",
       "0  1.000000  0.000000\n",
       "1  0.239178  0.760822\n",
       "2  1.000000  0.000000\n",
       "3  1.000000  0.000000\n",
       "4  0.700137  0.299863"
      ]
     },
     "execution_count": 116,
     "metadata": {},
     "output_type": "execute_result"
    }
   ],
   "source": [
    "submissions_df_6 = pd.DataFrame({'1':predictions_6[:,0], '2':predictions_6[:,1]})\n",
    "submissions_df_6.loc[filtered_with_1_test.index, '1'] = 1\n",
    "submissions_df_6.loc[filtered_with_1_test.index, '2'] = 0\n",
    "print(submissions_df_6.shape)\n",
    "submissions_df_6.head()"
   ]
  },
  {
   "cell_type": "code",
   "execution_count": 117,
   "metadata": {},
   "outputs": [],
   "source": [
    "submissions_df_6.to_excel('Submission_with_lr_0.05.xlsx', index = False)"
   ]
  },
  {
   "cell_type": "markdown",
   "metadata": {},
   "source": [
    "### Catboost"
   ]
  },
  {
   "cell_type": "code",
   "execution_count": null,
   "metadata": {
    "collapsed": true
   },
   "outputs": [],
   "source": [
    "\n",
    "from catboost import CatBoostClassifier\n",
    "cat_features = ['grade_A_Component_1','x_component_5','x_component_4','x_component_2','x_component_1','x_component_3',]\n",
    "params = {'depth' : [10,11], 'learning_rate' : [0.03, 0.05], \n",
    "         'n_estimators' : [100,200], 'reg_lambda' : [0.01,0.03]}\n",
    "classifier_6 = CatBoostClassifier(random_state = 0, cat_features = cat_features)\n",
    "grid_6 = GridSearchCV(estimator = classifier_6, param_grid = params, cv = 4, scoring = 'neg_log_loss')\n",
    "grid_6.fit(X,y)\n",
    "print(\"Score\", grid_6.best_score_)\n",
    "print(\"Params\", grid_6.best_params_)"
   ]
  },
  {
   "cell_type": "code",
   "execution_count": 120,
   "metadata": {},
   "outputs": [
    {
     "name": "stdout",
     "output_type": "stream",
     "text": [
      "Score -0.30862872958603893\n",
      "Params {'depth': 10, 'learning_rate': 0.05, 'n_estimators': 100, 'reg_lambda': 0.03}\n"
     ]
    }
   ],
   "source": [
    "print(\"Score\", grid_6.best_score_)\n",
    "print(\"Params\", grid_6.best_params_)"
   ]
  },
  {
   "cell_type": "code",
   "execution_count": 121,
   "metadata": {},
   "outputs": [
    {
     "name": "stdout",
     "output_type": "stream",
     "text": [
      "Score -0.2997688105710117\n",
      "Params {'depth': 8, 'learning_rate': 0.07, 'n_estimators': 100}\n"
     ]
    }
   ],
   "source": [
    "### Catboost\n",
    "from catboost import CatBoostClassifier\n",
    "cat_features = ['grade_A_Component_1','x_component_5','x_component_4','x_component_2','x_component_1','x_component_3',]\n",
    "params = {'depth' : [6,8,9], 'learning_rate' : [0.07, 0.08], \n",
    "         'n_estimators' : [100,200]}\n",
    "classifier_6 = CatBoostClassifier(random_state = 0, cat_features = cat_features, reg_lambda =0.03, silent = True)\n",
    "grid_6 = GridSearchCV(estimator = classifier_6, param_grid = params, cv = 4, scoring = 'neg_log_loss')\n",
    "grid_6.fit(X,y)\n",
    "print(\"Score\", grid_6.best_score_)\n",
    "print(\"Params\", grid_6.best_params_)"
   ]
  },
  {
   "cell_type": "code",
   "execution_count": null,
   "metadata": {
    "collapsed": true
   },
   "outputs": [],
   "source": [
    "classifier_6 = CatBoostClassifier(random_state = 0, cat_features = cat_features,\n",
    "                                  reg_lambda =0.03, depth = 8, learning_rate = 0.07, n_estimators = 100)\n",
    "classifier_6.fit(X,y)"
   ]
  },
  {
   "cell_type": "code",
   "execution_count": 124,
   "metadata": {},
   "outputs": [
    {
     "name": "stdout",
     "output_type": "stream",
     "text": [
      "(583, 2)\n"
     ]
    },
    {
     "data": {
      "text/html": [
       "<div>\n",
       "<style scoped>\n",
       "    .dataframe tbody tr th:only-of-type {\n",
       "        vertical-align: middle;\n",
       "    }\n",
       "\n",
       "    .dataframe tbody tr th {\n",
       "        vertical-align: top;\n",
       "    }\n",
       "\n",
       "    .dataframe thead th {\n",
       "        text-align: right;\n",
       "    }\n",
       "</style>\n",
       "<table border=\"1\" class=\"dataframe\">\n",
       "  <thead>\n",
       "    <tr style=\"text-align: right;\">\n",
       "      <th></th>\n",
       "      <th>1</th>\n",
       "      <th>2</th>\n",
       "    </tr>\n",
       "  </thead>\n",
       "  <tbody>\n",
       "    <tr>\n",
       "      <th>0</th>\n",
       "      <td>1.000000</td>\n",
       "      <td>0.000000</td>\n",
       "    </tr>\n",
       "    <tr>\n",
       "      <th>1</th>\n",
       "      <td>0.247477</td>\n",
       "      <td>0.752523</td>\n",
       "    </tr>\n",
       "    <tr>\n",
       "      <th>2</th>\n",
       "      <td>1.000000</td>\n",
       "      <td>0.000000</td>\n",
       "    </tr>\n",
       "    <tr>\n",
       "      <th>3</th>\n",
       "      <td>1.000000</td>\n",
       "      <td>0.000000</td>\n",
       "    </tr>\n",
       "    <tr>\n",
       "      <th>4</th>\n",
       "      <td>0.663890</td>\n",
       "      <td>0.336110</td>\n",
       "    </tr>\n",
       "  </tbody>\n",
       "</table>\n",
       "</div>"
      ],
      "text/plain": [
       "          1         2\n",
       "0  1.000000  0.000000\n",
       "1  0.247477  0.752523\n",
       "2  1.000000  0.000000\n",
       "3  1.000000  0.000000\n",
       "4  0.663890  0.336110"
      ]
     },
     "execution_count": 124,
     "metadata": {},
     "output_type": "execute_result"
    }
   ],
   "source": [
    "predictions_7 = classifier_6.predict_proba(X_test)\n",
    "submissions_df_7 = pd.DataFrame({'1':predictions_7[:,0], '2':predictions_7[:,1]})\n",
    "submissions_df_7.loc[filtered_with_1_test.index, '1'] = 1\n",
    "submissions_df_7.loc[filtered_with_1_test.index, '2'] = 0\n",
    "print(submissions_df_7.shape)\n",
    "submissions_df_7.head()"
   ]
  },
  {
   "cell_type": "code",
   "execution_count": 126,
   "metadata": {},
   "outputs": [
    {
     "data": {
      "text/plain": [
       "x_component_5           3.132894\n",
       "x_component_4           3.957831\n",
       "log_area                7.913699\n",
       "max_luminosity          8.370171\n",
       "grade_A_Component_1     8.725151\n",
       "ymin                    8.790859\n",
       "xmin                    8.862008\n",
       "x_component_2          10.616751\n",
       "x_component_1          11.664711\n",
       "thickness              12.543128\n",
       "x_component_3          15.422797\n",
       "dtype: float64"
      ]
     },
     "execution_count": 126,
     "metadata": {},
     "output_type": "execute_result"
    }
   ],
   "source": [
    "pd.Series(index = classifier_6.feature_names_ , data = classifier_6.feature_importances_).sort_values()"
   ]
  },
  {
   "cell_type": "code",
   "execution_count": 127,
   "metadata": {},
   "outputs": [],
   "source": [
    "submissions_df_7.to_excel('Submission_catboost.xlsx', index = False)"
   ]
  },
  {
   "cell_type": "markdown",
   "metadata": {},
   "source": [
    "#### Training only with filtered X"
   ]
  },
  {
   "cell_type": "code",
   "execution_count": 5,
   "metadata": {},
   "outputs": [
    {
     "name": "stdout",
     "output_type": "stream",
     "text": [
      "(1358, 11)\n",
      "(583, 11)\n"
     ]
    }
   ],
   "source": [
    "X = train_df[predictor_columns]\n",
    "y = train_df['class']\n",
    "y=y-1\n",
    "X_test = test_df[predictor_columns]\n",
    "print(X.shape)\n",
    "print(X_test.shape)"
   ]
  },
  {
   "cell_type": "code",
   "execution_count": 10,
   "metadata": {},
   "outputs": [
    {
     "data": {
      "text/plain": [
       "(609, 16)"
      ]
     },
     "execution_count": 10,
     "metadata": {},
     "output_type": "execute_result"
    }
   ],
   "source": [
    "filtered_with_1_train.shape"
   ]
  },
  {
   "cell_type": "code",
   "execution_count": 29,
   "metadata": {},
   "outputs": [
    {
     "name": "stdout",
     "output_type": "stream",
     "text": [
      "(749, 11)\n",
      "(749,)\n"
     ]
    }
   ],
   "source": [
    "selected_X = X.drop(filtered_with_1_train.index, axis = 0)\n",
    "selected_y = y.drop(filtered_with_1_train.index, axis = 0)\n",
    "print(selected_X.shape)\n",
    "print(selected_y.shape)"
   ]
  },
  {
   "cell_type": "code",
   "execution_count": 16,
   "metadata": {},
   "outputs": [],
   "source": [
    "#full fit\n",
    "from xgboost import XGBClassifier\n",
    "classifier_8 = XGBClassifier(random_state = 0, n_estimators = 100, learning_rate = 0.03, reg_lambda = 0.01,\n",
    "                            max_depth =11)\n",
    "classifier_8.fit(X,y) #wrongly done but stil improved\n",
    "predictions_8 = classifier_8.predict_proba(X_test)"
   ]
  },
  {
   "cell_type": "code",
   "execution_count": 17,
   "metadata": {},
   "outputs": [
    {
     "data": {
      "text/plain": [
       "log_area               0.016145\n",
       "xmin                   0.017582\n",
       "max_luminosity         0.018515\n",
       "ymin                   0.020166\n",
       "thickness              0.029982\n",
       "grade_A_Component_1    0.079500\n",
       "x_component_5          0.081116\n",
       "x_component_4          0.089952\n",
       "x_component_1          0.186475\n",
       "x_component_2          0.193839\n",
       "x_component_3          0.266727\n",
       "dtype: float32"
      ]
     },
     "execution_count": 17,
     "metadata": {},
     "output_type": "execute_result"
    }
   ],
   "source": [
    "pd.Series(index = predictor_columns , data = classifier_8.feature_importances_).sort_values()"
   ]
  },
  {
   "cell_type": "code",
   "execution_count": 18,
   "metadata": {},
   "outputs": [
    {
     "name": "stdout",
     "output_type": "stream",
     "text": [
      "(583, 2)\n"
     ]
    },
    {
     "data": {
      "text/html": [
       "<div>\n",
       "<style scoped>\n",
       "    .dataframe tbody tr th:only-of-type {\n",
       "        vertical-align: middle;\n",
       "    }\n",
       "\n",
       "    .dataframe tbody tr th {\n",
       "        vertical-align: top;\n",
       "    }\n",
       "\n",
       "    .dataframe thead th {\n",
       "        text-align: right;\n",
       "    }\n",
       "</style>\n",
       "<table border=\"1\" class=\"dataframe\">\n",
       "  <thead>\n",
       "    <tr style=\"text-align: right;\">\n",
       "      <th></th>\n",
       "      <th>1</th>\n",
       "      <th>2</th>\n",
       "    </tr>\n",
       "  </thead>\n",
       "  <tbody>\n",
       "    <tr>\n",
       "      <th>0</th>\n",
       "      <td>1.000000</td>\n",
       "      <td>0.000000</td>\n",
       "    </tr>\n",
       "    <tr>\n",
       "      <th>1</th>\n",
       "      <td>0.154214</td>\n",
       "      <td>0.845786</td>\n",
       "    </tr>\n",
       "    <tr>\n",
       "      <th>2</th>\n",
       "      <td>1.000000</td>\n",
       "      <td>0.000000</td>\n",
       "    </tr>\n",
       "    <tr>\n",
       "      <th>3</th>\n",
       "      <td>1.000000</td>\n",
       "      <td>0.000000</td>\n",
       "    </tr>\n",
       "    <tr>\n",
       "      <th>4</th>\n",
       "      <td>0.475937</td>\n",
       "      <td>0.524063</td>\n",
       "    </tr>\n",
       "  </tbody>\n",
       "</table>\n",
       "</div>"
      ],
      "text/plain": [
       "          1         2\n",
       "0  1.000000  0.000000\n",
       "1  0.154214  0.845786\n",
       "2  1.000000  0.000000\n",
       "3  1.000000  0.000000\n",
       "4  0.475937  0.524063"
      ]
     },
     "execution_count": 18,
     "metadata": {},
     "output_type": "execute_result"
    }
   ],
   "source": [
    "submissions_df_8 = pd.DataFrame({'1':predictions_8[:,0], '2':predictions_8[:,1]})\n",
    "submissions_df_8.loc[filtered_with_1_test.index, '1'] = 1\n",
    "submissions_df_8.loc[filtered_with_1_test.index, '2'] = 0\n",
    "print(submissions_df_8.shape)\n",
    "submissions_df_8.head()"
   ]
  },
  {
   "cell_type": "code",
   "execution_count": 19,
   "metadata": {},
   "outputs": [],
   "source": [
    "submissions_df_8.to_excel('Submission_with_filtered_train.xlsx', index = False)"
   ]
  },
  {
   "cell_type": "code",
   "execution_count": 25,
   "metadata": {},
   "outputs": [],
   "source": [
    "from sklearn.model_selection import cross_val_score\n",
    "scores = cross_val_score(classifier_8, X,y, cv=4, scoring = 'neg_log_loss')"
   ]
  },
  {
   "cell_type": "code",
   "execution_count": 26,
   "metadata": {},
   "outputs": [
    {
     "data": {
      "text/plain": [
       "-0.3019124455207606"
      ]
     },
     "execution_count": 26,
     "metadata": {},
     "output_type": "execute_result"
    }
   ],
   "source": [
    "scores.mean() #-0.3019124455207606"
   ]
  },
  {
   "cell_type": "code",
   "execution_count": 34,
   "metadata": {},
   "outputs": [],
   "source": [
    "#full fit\n",
    "from xgboost import XGBClassifier\n",
    "classifier_9 = XGBClassifier(random_state = 0, n_estimators = 100, learning_rate = 0.03, reg_lambda = 0.01,\n",
    "                            max_depth =11)\n",
    "classifier_9.fit(selected_X,selected_y) #wrongly done but stil improved\n",
    "predictions_9 = classifier_9.predict_proba(X_test)"
   ]
  },
  {
   "cell_type": "code",
   "execution_count": 35,
   "metadata": {},
   "outputs": [
    {
     "data": {
      "text/plain": [
       "x_component_3          0.000000\n",
       "x_component_5          0.000000\n",
       "x_component_2          0.000000\n",
       "x_component_4          0.000000\n",
       "x_component_1          0.000000\n",
       "log_area               0.089394\n",
       "xmin                   0.100001\n",
       "max_luminosity         0.101885\n",
       "ymin                   0.117955\n",
       "thickness              0.138315\n",
       "grade_A_Component_1    0.452450\n",
       "dtype: float32"
      ]
     },
     "execution_count": 35,
     "metadata": {},
     "output_type": "execute_result"
    }
   ],
   "source": [
    "pd.Series(index = predictor_columns , data = classifier_9.feature_importances_).sort_values()"
   ]
  },
  {
   "cell_type": "code",
   "execution_count": 39,
   "metadata": {},
   "outputs": [
    {
     "data": {
      "text/plain": [
       "-0.5369257165002703"
      ]
     },
     "execution_count": 39,
     "metadata": {},
     "output_type": "execute_result"
    }
   ],
   "source": [
    "from sklearn.model_selection import cross_val_score\n",
    "scores = cross_val_score(classifier_9, selected_X,selected_y, cv=4, scoring = 'neg_log_loss')\n",
    "scores.mean()"
   ]
  },
  {
   "cell_type": "code",
   "execution_count": 41,
   "metadata": {},
   "outputs": [
    {
     "name": "stdout",
     "output_type": "stream",
     "text": [
      "(1222, 11) (136, 11) (1222,) (136,)\n"
     ]
    }
   ],
   "source": [
    "from sklearn.model_selection import train_test_split\n",
    "\n",
    "X_train, X_val, y_train, y_val = train_test_split(X, y, test_size = 0.1)\n",
    "print(X_train.shape, X_val.shape, y_train.shape, y_val.shape)"
   ]
  },
  {
   "cell_type": "code",
   "execution_count": 49,
   "metadata": {},
   "outputs": [
    {
     "data": {
      "text/plain": [
       "0.9610785304787842"
      ]
     },
     "execution_count": 49,
     "metadata": {},
     "output_type": "execute_result"
    }
   ],
   "source": [
    "classifier_9.fit(X_train.drop(filtered_with_1_train.index, errors = 'ignore'),\n",
    "                 y_train.drop(filtered_with_1_train.index, errors = 'ignore'))\n",
    "y_val_pred = classifier_9.predict_proba(X_val)\n",
    "from sklearn.metrics import log_loss\n",
    "log_loss(y_val,y_val_pred[:,1])"
   ]
  },
  {
   "cell_type": "code",
   "execution_count": 36,
   "metadata": {},
   "outputs": [
    {
     "name": "stdout",
     "output_type": "stream",
     "text": [
      "(583, 2)\n"
     ]
    },
    {
     "data": {
      "text/html": [
       "<div>\n",
       "<style scoped>\n",
       "    .dataframe tbody tr th:only-of-type {\n",
       "        vertical-align: middle;\n",
       "    }\n",
       "\n",
       "    .dataframe tbody tr th {\n",
       "        vertical-align: top;\n",
       "    }\n",
       "\n",
       "    .dataframe thead th {\n",
       "        text-align: right;\n",
       "    }\n",
       "</style>\n",
       "<table border=\"1\" class=\"dataframe\">\n",
       "  <thead>\n",
       "    <tr style=\"text-align: right;\">\n",
       "      <th></th>\n",
       "      <th>1</th>\n",
       "      <th>2</th>\n",
       "    </tr>\n",
       "  </thead>\n",
       "  <tbody>\n",
       "    <tr>\n",
       "      <th>0</th>\n",
       "      <td>1.000000</td>\n",
       "      <td>0.000000</td>\n",
       "    </tr>\n",
       "    <tr>\n",
       "      <th>1</th>\n",
       "      <td>0.148796</td>\n",
       "      <td>0.851204</td>\n",
       "    </tr>\n",
       "    <tr>\n",
       "      <th>2</th>\n",
       "      <td>1.000000</td>\n",
       "      <td>0.000000</td>\n",
       "    </tr>\n",
       "    <tr>\n",
       "      <th>3</th>\n",
       "      <td>1.000000</td>\n",
       "      <td>0.000000</td>\n",
       "    </tr>\n",
       "    <tr>\n",
       "      <th>4</th>\n",
       "      <td>0.469882</td>\n",
       "      <td>0.530118</td>\n",
       "    </tr>\n",
       "  </tbody>\n",
       "</table>\n",
       "</div>"
      ],
      "text/plain": [
       "          1         2\n",
       "0  1.000000  0.000000\n",
       "1  0.148796  0.851204\n",
       "2  1.000000  0.000000\n",
       "3  1.000000  0.000000\n",
       "4  0.469882  0.530118"
      ]
     },
     "execution_count": 36,
     "metadata": {},
     "output_type": "execute_result"
    }
   ],
   "source": [
    "submissions_df_9 = pd.DataFrame({'1':predictions_9[:,0], '2':predictions_9[:,1]})\n",
    "submissions_df_9.loc[filtered_with_1_test.index, '1'] = 1\n",
    "submissions_df_9.loc[filtered_with_1_test.index, '2'] = 0\n",
    "print(submissions_df_9.shape)\n",
    "submissions_df_9.head()"
   ]
  },
  {
   "cell_type": "code",
   "execution_count": 37,
   "metadata": {},
   "outputs": [],
   "source": [
    "submissions_df_9.to_excel('Submission_with_filtered_train_correct.xlsx', index = False)"
   ]
  },
  {
   "cell_type": "markdown",
   "metadata": {},
   "source": [
    "#### Above method Not useful"
   ]
  },
  {
   "cell_type": "markdown",
   "metadata": {},
   "source": [
    "#### With ['xmax', 'ymax']"
   ]
  },
  {
   "cell_type": "code",
   "execution_count": 65,
   "metadata": {},
   "outputs": [
    {
     "name": "stdout",
     "output_type": "stream",
     "text": [
      "(1358, 13)\n",
      "(583, 13)\n"
     ]
    }
   ],
   "source": [
    "X = train_df[predictor_columns + ['xmax', 'ymax']]\n",
    "y = train_df['class']\n",
    "y=y-1\n",
    "X_test = test_df[predictor_columns + ['xmax', 'ymax']]\n",
    "print(X.shape)\n",
    "print(X_test.shape)"
   ]
  },
  {
   "cell_type": "code",
   "execution_count": 66,
   "metadata": {},
   "outputs": [
    {
     "name": "stdout",
     "output_type": "stream",
     "text": [
      "Score -0.29704339502249977\n",
      "Params {'learning_rate': 0.03, 'max_depth': 10, 'n_estimators': 150, 'reg_lambda': 0.03}\n"
     ]
    }
   ],
   "source": [
    "#Correct Grid Search with XGBoost\n",
    "from xgboost import XGBClassifier\n",
    "from sklearn.model_selection import GridSearchCV\n",
    "params = {'max_depth' : [10,11,12], 'learning_rate' : [0.01, 0.03, 0.05, 0.1], \n",
    "         'n_estimators' : [100,150], 'reg_lambda' : [0.01,0.03]}\n",
    "classifier_10 = XGBClassifier(random_state = 0)\n",
    "grid_10 = GridSearchCV(estimator = classifier_10, param_grid = params, cv = 4, scoring = 'neg_log_loss')\n",
    "grid_10.fit(X,y)\n",
    "print(\"Score\", grid_10.best_score_)\n",
    "print(\"Params\", grid_10.best_params_)"
   ]
  },
  {
   "cell_type": "code",
   "execution_count": 67,
   "metadata": {},
   "outputs": [
    {
     "name": "stdout",
     "output_type": "stream",
     "text": [
      "Estimator XGBClassifier(base_score=0.5, booster=None, colsample_bylevel=1,\n",
      "              colsample_bynode=1, colsample_bytree=1, gamma=0, gpu_id=-1,\n",
      "              importance_type='gain', interaction_constraints=None,\n",
      "              learning_rate=0.03, max_delta_step=0, max_depth=10,\n",
      "              min_child_weight=1, missing=nan, monotone_constraints=None,\n",
      "              n_estimators=150, n_jobs=0, num_parallel_tree=1,\n",
      "              objective='binary:logistic', random_state=0, reg_alpha=0,\n",
      "              reg_lambda=0.03, scale_pos_weight=1, subsample=1,\n",
      "              tree_method=None, validate_parameters=False, verbosity=None)\n"
     ]
    }
   ],
   "source": [
    "print(\"Estimator\", grid_10.best_estimator_)"
   ]
  },
  {
   "cell_type": "code",
   "execution_count": 69,
   "metadata": {},
   "outputs": [
    {
     "data": {
      "text/plain": [
       "-0.29704339502249977"
      ]
     },
     "execution_count": 69,
     "metadata": {},
     "output_type": "execute_result"
    }
   ],
   "source": [
    "from sklearn.model_selection import cross_val_score\n",
    "scores = cross_val_score(grid_10.best_estimator_, X,y ,cv=4, scoring = 'neg_log_loss')\n",
    "scores.mean()"
   ]
  },
  {
   "cell_type": "code",
   "execution_count": 70,
   "metadata": {},
   "outputs": [
    {
     "data": {
      "text/plain": [
       "-0.29704339502249977"
      ]
     },
     "execution_count": 70,
     "metadata": {},
     "output_type": "execute_result"
    }
   ],
   "source": [
    "classifier_10 = XGBClassifier(random_state = 0, learning_rate= 0.03, max_depth= 10, n_estimators= 150, reg_lambda = 0.03)\n",
    "scores = cross_val_score(grid_10.best_estimator_, X,y ,cv=4, scoring = 'neg_log_loss')\n",
    "scores.mean()"
   ]
  },
  {
   "cell_type": "code",
   "execution_count": 71,
   "metadata": {},
   "outputs": [],
   "source": [
    "#full fit\n",
    "from xgboost import XGBClassifier\n",
    "grid_10.best_estimator_.fit(X,y) \n",
    "predictions_10 = grid_10.best_estimator_.predict_proba(X_test)"
   ]
  },
  {
   "cell_type": "code",
   "execution_count": 72,
   "metadata": {},
   "outputs": [
    {
     "name": "stdout",
     "output_type": "stream",
     "text": [
      "(583, 2)\n"
     ]
    },
    {
     "data": {
      "text/html": [
       "<div>\n",
       "<style scoped>\n",
       "    .dataframe tbody tr th:only-of-type {\n",
       "        vertical-align: middle;\n",
       "    }\n",
       "\n",
       "    .dataframe tbody tr th {\n",
       "        vertical-align: top;\n",
       "    }\n",
       "\n",
       "    .dataframe thead th {\n",
       "        text-align: right;\n",
       "    }\n",
       "</style>\n",
       "<table border=\"1\" class=\"dataframe\">\n",
       "  <thead>\n",
       "    <tr style=\"text-align: right;\">\n",
       "      <th></th>\n",
       "      <th>1</th>\n",
       "      <th>2</th>\n",
       "    </tr>\n",
       "  </thead>\n",
       "  <tbody>\n",
       "    <tr>\n",
       "      <th>0</th>\n",
       "      <td>1.000000</td>\n",
       "      <td>0.000000</td>\n",
       "    </tr>\n",
       "    <tr>\n",
       "      <th>1</th>\n",
       "      <td>0.170817</td>\n",
       "      <td>0.829183</td>\n",
       "    </tr>\n",
       "    <tr>\n",
       "      <th>2</th>\n",
       "      <td>1.000000</td>\n",
       "      <td>0.000000</td>\n",
       "    </tr>\n",
       "    <tr>\n",
       "      <th>3</th>\n",
       "      <td>1.000000</td>\n",
       "      <td>0.000000</td>\n",
       "    </tr>\n",
       "    <tr>\n",
       "      <th>4</th>\n",
       "      <td>0.572580</td>\n",
       "      <td>0.427420</td>\n",
       "    </tr>\n",
       "  </tbody>\n",
       "</table>\n",
       "</div>"
      ],
      "text/plain": [
       "          1         2\n",
       "0  1.000000  0.000000\n",
       "1  0.170817  0.829183\n",
       "2  1.000000  0.000000\n",
       "3  1.000000  0.000000\n",
       "4  0.572580  0.427420"
      ]
     },
     "execution_count": 72,
     "metadata": {},
     "output_type": "execute_result"
    }
   ],
   "source": [
    "submissions_df_10 = pd.DataFrame({'1':predictions_10[:,0], '2':predictions_10[:,1]})\n",
    "submissions_df_10.loc[filtered_with_1_test.index, '1'] = 1\n",
    "submissions_df_10.loc[filtered_with_1_test.index, '2'] = 0\n",
    "print(submissions_df_10.shape)\n",
    "submissions_df_10.head()"
   ]
  },
  {
   "cell_type": "code",
   "execution_count": 73,
   "metadata": {},
   "outputs": [],
   "source": [
    "submissions_df_10.to_excel('Submission_with_xmax_ymax.xlsx', index = False)"
   ]
  },
  {
   "cell_type": "markdown",
   "metadata": {},
   "source": [
    "### Other feaTures"
   ]
  },
  {
   "cell_type": "code",
   "execution_count": 78,
   "metadata": {},
   "outputs": [
    {
     "data": {
      "image/png": "[encoded data removed]",
      "text/plain": [
       "<Figure size 432x288 with 1 Axes>"
      ]
     },
     "metadata": {
      "needs_background": "dark"
     },
     "output_type": "display_data"
    }
   ],
   "source": [
    "import matplotlib.pyplot as plt\n",
    "plt.scatter(train_df['xmin']*train_df['ymin'], train_df['class'])\n",
    "plt.tick_params(colors='white', labelcolor = 'white')"
   ]
  },
  {
   "cell_type": "code",
   "execution_count": null,
   "metadata": {},
   "outputs": [],
   "source": [
    "X = train_df[predictor_columns]\n",
    "X['xmin_x_ymin'] = X['xmin']*X['ymin']\n",
    "y = train_df['class']\n",
    "y=y-1\n",
    "X_test = test_df[predictor_columns]\n",
    "X_test['xmin_x_ymin'] = X_test['xmin']*X_test['ymin']\n",
    "print(X.shape)\n",
    "print(X_test.shape)"
   ]
  },
  {
   "cell_type": "code",
   "execution_count": 84,
   "metadata": {},
   "outputs": [
    {
     "data": {
      "text/html": [
       "<div>\n",
       "<style scoped>\n",
       "    .dataframe tbody tr th:only-of-type {\n",
       "        vertical-align: middle;\n",
       "    }\n",
       "\n",
       "    .dataframe tbody tr th {\n",
       "        vertical-align: top;\n",
       "    }\n",
       "\n",
       "    .dataframe thead th {\n",
       "        text-align: right;\n",
       "    }\n",
       "</style>\n",
       "<table border=\"1\" class=\"dataframe\">\n",
       "  <thead>\n",
       "    <tr style=\"text-align: right;\">\n",
       "      <th></th>\n",
       "      <th>thickness</th>\n",
       "      <th>grade_A_Component_1</th>\n",
       "      <th>xmin</th>\n",
       "      <th>x_component_3</th>\n",
       "      <th>log_area</th>\n",
       "      <th>max_luminosity</th>\n",
       "      <th>x_component_5</th>\n",
       "      <th>x_component_2</th>\n",
       "      <th>x_component_4</th>\n",
       "      <th>ymin</th>\n",
       "      <th>x_component_1</th>\n",
       "      <th>xmin_x_ymin</th>\n",
       "    </tr>\n",
       "  </thead>\n",
       "  <tbody>\n",
       "    <tr>\n",
       "      <th>0</th>\n",
       "      <td>36</td>\n",
       "      <td>0</td>\n",
       "      <td>144</td>\n",
       "      <td>1</td>\n",
       "      <td>439.099273</td>\n",
       "      <td>150</td>\n",
       "      <td>0</td>\n",
       "      <td>0</td>\n",
       "      <td>0</td>\n",
       "      <td>947225</td>\n",
       "      <td>0</td>\n",
       "      <td>136400400</td>\n",
       "    </tr>\n",
       "    <tr>\n",
       "      <th>1</th>\n",
       "      <td>55</td>\n",
       "      <td>1</td>\n",
       "      <td>1144</td>\n",
       "      <td>0</td>\n",
       "      <td>329.205616</td>\n",
       "      <td>134</td>\n",
       "      <td>0</td>\n",
       "      <td>0</td>\n",
       "      <td>0</td>\n",
       "      <td>2379058</td>\n",
       "      <td>1</td>\n",
       "      <td>2721642352</td>\n",
       "    </tr>\n",
       "    <tr>\n",
       "      <th>2</th>\n",
       "      <td>65</td>\n",
       "      <td>1</td>\n",
       "      <td>950</td>\n",
       "      <td>0</td>\n",
       "      <td>300.120598</td>\n",
       "      <td>135</td>\n",
       "      <td>0</td>\n",
       "      <td>0</td>\n",
       "      <td>0</td>\n",
       "      <td>1038442</td>\n",
       "      <td>0</td>\n",
       "      <td>986519900</td>\n",
       "    </tr>\n",
       "    <tr>\n",
       "      <th>3</th>\n",
       "      <td>35</td>\n",
       "      <td>0</td>\n",
       "      <td>41</td>\n",
       "      <td>1</td>\n",
       "      <td>6803.778622</td>\n",
       "      <td>123</td>\n",
       "      <td>0</td>\n",
       "      <td>0</td>\n",
       "      <td>0</td>\n",
       "      <td>1705580</td>\n",
       "      <td>0</td>\n",
       "      <td>69928780</td>\n",
       "    </tr>\n",
       "    <tr>\n",
       "      <th>4</th>\n",
       "      <td>69</td>\n",
       "      <td>1</td>\n",
       "      <td>462</td>\n",
       "      <td>0</td>\n",
       "      <td>251.401943</td>\n",
       "      <td>138</td>\n",
       "      <td>0</td>\n",
       "      <td>0</td>\n",
       "      <td>0</td>\n",
       "      <td>1088124</td>\n",
       "      <td>0</td>\n",
       "      <td>502713288</td>\n",
       "    </tr>\n",
       "  </tbody>\n",
       "</table>\n",
       "</div>"
      ],
      "text/plain": [
       "   thickness  grade_A_Component_1  xmin  x_component_3     log_area  \\\n",
       "0         36                    0   144              1   439.099273   \n",
       "1         55                    1  1144              0   329.205616   \n",
       "2         65                    1   950              0   300.120598   \n",
       "3         35                    0    41              1  6803.778622   \n",
       "4         69                    1   462              0   251.401943   \n",
       "\n",
       "   max_luminosity  x_component_5  x_component_2  x_component_4     ymin  \\\n",
       "0             150              0              0              0   947225   \n",
       "1             134              0              0              0  2379058   \n",
       "2             135              0              0              0  1038442   \n",
       "3             123              0              0              0  1705580   \n",
       "4             138              0              0              0  1088124   \n",
       "\n",
       "   x_component_1  xmin_x_ymin  \n",
       "0              0    136400400  \n",
       "1              1   2721642352  \n",
       "2              0    986519900  \n",
       "3              0     69928780  \n",
       "4              0    502713288  "
      ]
     },
     "execution_count": 84,
     "metadata": {},
     "output_type": "execute_result"
    }
   ],
   "source": [
    "X.head()"
   ]
  },
  {
   "cell_type": "code",
   "execution_count": 80,
   "metadata": {},
   "outputs": [
    {
     "name": "stdout",
     "output_type": "stream",
     "text": [
      "Score -0.29553497507348486\n",
      "Params {'learning_rate': 0.05, 'max_depth': 10, 'n_estimators': 100, 'reg_lambda': 0.03}\n"
     ]
    }
   ],
   "source": [
    "#Correct Grid Search with XGBoost\n",
    "from xgboost import XGBClassifier\n",
    "from sklearn.model_selection import GridSearchCV\n",
    "params = {'max_depth' : [10,11,12], 'learning_rate' : [0.01, 0.03, 0.05, 0.1], \n",
    "         'n_estimators' : [100,150], 'reg_lambda' : [0.01,0.03]}\n",
    "classifier_11 = XGBClassifier(random_state = 0)\n",
    "grid_11 = GridSearchCV(estimator = classifier_11, param_grid = params, cv = 4, scoring = 'neg_log_loss')\n",
    "grid_11.fit(X,y)\n",
    "print(\"Score\", grid_11.best_score_)\n",
    "print(\"Params\", grid_11.best_params_)"
   ]
  },
  {
   "cell_type": "code",
   "execution_count": 81,
   "metadata": {},
   "outputs": [
    {
     "data": {
      "text/plain": [
       "-0.29553497507348486"
      ]
     },
     "execution_count": 81,
     "metadata": {},
     "output_type": "execute_result"
    }
   ],
   "source": [
    "from sklearn.model_selection import cross_val_score\n",
    "scores = cross_val_score(grid_11.best_estimator_, X,y ,cv=4, scoring = 'neg_log_loss')\n",
    "scores.mean()"
   ]
  },
  {
   "cell_type": "code",
   "execution_count": 82,
   "metadata": {},
   "outputs": [],
   "source": [
    "#full fit\n",
    "from xgboost import XGBClassifier\n",
    "grid_11.best_estimator_.fit(X,y) \n",
    "predictions_11 = grid_11.best_estimator_.predict_proba(X_test)"
   ]
  },
  {
   "cell_type": "code",
   "execution_count": 86,
   "metadata": {},
   "outputs": [
    {
     "data": {
      "text/plain": [
       "log_area               0.019152\n",
       "xmin                   0.019769\n",
       "xmin_x_ymin            0.021380\n",
       "ymin                   0.022552\n",
       "max_luminosity         0.023885\n",
       "thickness              0.031412\n",
       "grade_A_Component_1    0.081341\n",
       "x_component_5          0.093325\n",
       "x_component_4          0.107474\n",
       "x_component_2          0.178196\n",
       "x_component_1          0.182379\n",
       "x_component_3          0.219134\n",
       "dtype: float32"
      ]
     },
     "execution_count": 86,
     "metadata": {},
     "output_type": "execute_result"
    }
   ],
   "source": [
    "pd.Series(index = predictor_columns + ['xmin_x_ymin'] , data = grid_11.best_estimator_.feature_importances_).sort_values()"
   ]
  },
  {
   "cell_type": "code",
   "execution_count": 83,
   "metadata": {},
   "outputs": [
    {
     "name": "stdout",
     "output_type": "stream",
     "text": [
      "(583, 2)\n"
     ]
    },
    {
     "data": {
      "text/html": [
       "<div>\n",
       "<style scoped>\n",
       "    .dataframe tbody tr th:only-of-type {\n",
       "        vertical-align: middle;\n",
       "    }\n",
       "\n",
       "    .dataframe tbody tr th {\n",
       "        vertical-align: top;\n",
       "    }\n",
       "\n",
       "    .dataframe thead th {\n",
       "        text-align: right;\n",
       "    }\n",
       "</style>\n",
       "<table border=\"1\" class=\"dataframe\">\n",
       "  <thead>\n",
       "    <tr style=\"text-align: right;\">\n",
       "      <th></th>\n",
       "      <th>1</th>\n",
       "      <th>2</th>\n",
       "    </tr>\n",
       "  </thead>\n",
       "  <tbody>\n",
       "    <tr>\n",
       "      <th>0</th>\n",
       "      <td>1.000000</td>\n",
       "      <td>0.000000</td>\n",
       "    </tr>\n",
       "    <tr>\n",
       "      <th>1</th>\n",
       "      <td>0.152471</td>\n",
       "      <td>0.847529</td>\n",
       "    </tr>\n",
       "    <tr>\n",
       "      <th>2</th>\n",
       "      <td>1.000000</td>\n",
       "      <td>0.000000</td>\n",
       "    </tr>\n",
       "    <tr>\n",
       "      <th>3</th>\n",
       "      <td>1.000000</td>\n",
       "      <td>0.000000</td>\n",
       "    </tr>\n",
       "    <tr>\n",
       "      <th>4</th>\n",
       "      <td>0.506617</td>\n",
       "      <td>0.493383</td>\n",
       "    </tr>\n",
       "  </tbody>\n",
       "</table>\n",
       "</div>"
      ],
      "text/plain": [
       "          1         2\n",
       "0  1.000000  0.000000\n",
       "1  0.152471  0.847529\n",
       "2  1.000000  0.000000\n",
       "3  1.000000  0.000000\n",
       "4  0.506617  0.493383"
      ]
     },
     "execution_count": 83,
     "metadata": {},
     "output_type": "execute_result"
    }
   ],
   "source": [
    "submissions_df_11 = pd.DataFrame({'1':predictions_11[:,0], '2':predictions_11[:,1]})\n",
    "submissions_df_11.loc[filtered_with_1_test.index, '1'] = 1\n",
    "submissions_df_11.loc[filtered_with_1_test.index, '2'] = 0\n",
    "print(submissions_df_11.shape)\n",
    "submissions_df_11.head()"
   ]
  },
  {
   "cell_type": "code",
   "execution_count": 87,
   "metadata": {},
   "outputs": [],
   "source": [
    "submissions_df_11.to_excel('Submission_with_xmin_x_ymin.xlsx', index = False)"
   ]
  },
  {
   "cell_type": "markdown",
   "metadata": {},
   "source": [
    "### Other technique"
   ]
  },
  {
   "cell_type": "code",
   "execution_count": 5,
   "metadata": {},
   "outputs": [
    {
     "name": "stdout",
     "output_type": "stream",
     "text": [
      "(1358, 11)\n",
      "(583, 11)\n"
     ]
    }
   ],
   "source": [
    "X = train_df[predictor_columns]\n",
    "y = train_df['class']\n",
    "y=y-1\n",
    "X_test = test_df[predictor_columns]\n",
    "print(X.shape)\n",
    "print(X_test.shape)"
   ]
  },
  {
   "cell_type": "code",
   "execution_count": 90,
   "metadata": {},
   "outputs": [
    {
     "name": "stdout",
     "output_type": "stream",
     "text": [
      "2996\n",
      "439\n"
     ]
    }
   ],
   "source": [
    "print((train_df.loc[0,'xmax'] - train_df.loc[0,'xmin']) * (train_df.loc[0,'ymax'] - train_df.loc[0,'ymin']))\n",
    "print(train_df.loc[0,'pixel_area'])"
   ]
  },
  {
   "cell_type": "code",
   "execution_count": null,
   "metadata": {},
   "outputs": [],
   "source": [
    "train_df[train_df['xmin'] > train_df['xmax']].any()"
   ]
  },
  {
   "cell_type": "code",
   "execution_count": 96,
   "metadata": {},
   "outputs": [
    {
     "data": {
      "text/plain": [
       "grade_A_Component_1    True\n",
       "grade_A_Component_2    True\n",
       "max_luminosity         True\n",
       "thickness              True\n",
       "xmin                   True\n",
       "xmax                   True\n",
       "ymin                   True\n",
       "ymax                   True\n",
       "pixel_area             True\n",
       "log_area               True\n",
       "x_component_1          True\n",
       "x_component_2          True\n",
       "x_component_3          True\n",
       "x_component_4          True\n",
       "x_component_5          True\n",
       "class                  True\n",
       "dtype: bool"
      ]
     },
     "execution_count": 96,
     "metadata": {},
     "output_type": "execute_result"
    }
   ],
   "source": [
    "train_df[train_df['ymin'] > train_df['ymax']].any()"
   ]
  },
  {
   "cell_type": "code",
   "execution_count": 95,
   "metadata": {},
   "outputs": [
    {
     "data": {
      "text/html": [
       "<div>\n",
       "<style scoped>\n",
       "    .dataframe tbody tr th:only-of-type {\n",
       "        vertical-align: middle;\n",
       "    }\n",
       "\n",
       "    .dataframe tbody tr th {\n",
       "        vertical-align: top;\n",
       "    }\n",
       "\n",
       "    .dataframe thead th {\n",
       "        text-align: right;\n",
       "    }\n",
       "</style>\n",
       "<table border=\"1\" class=\"dataframe\">\n",
       "  <thead>\n",
       "    <tr style=\"text-align: right;\">\n",
       "      <th></th>\n",
       "      <th>ymax</th>\n",
       "      <th>ymin</th>\n",
       "    </tr>\n",
       "  </thead>\n",
       "  <tbody>\n",
       "    <tr>\n",
       "      <th>2</th>\n",
       "      <td>1036754</td>\n",
       "      <td>1038442</td>\n",
       "    </tr>\n",
       "    <tr>\n",
       "      <th>4</th>\n",
       "      <td>1086579</td>\n",
       "      <td>1088124</td>\n",
       "    </tr>\n",
       "    <tr>\n",
       "      <th>5</th>\n",
       "      <td>1136929</td>\n",
       "      <td>1137516</td>\n",
       "    </tr>\n",
       "    <tr>\n",
       "      <th>6</th>\n",
       "      <td>87169</td>\n",
       "      <td>87212</td>\n",
       "    </tr>\n",
       "    <tr>\n",
       "      <th>7</th>\n",
       "      <td>696534</td>\n",
       "      <td>697615</td>\n",
       "    </tr>\n",
       "    <tr>\n",
       "      <th>...</th>\n",
       "      <td>...</td>\n",
       "      <td>...</td>\n",
       "    </tr>\n",
       "    <tr>\n",
       "      <th>1347</th>\n",
       "      <td>2473087</td>\n",
       "      <td>2474146</td>\n",
       "    </tr>\n",
       "    <tr>\n",
       "      <th>1349</th>\n",
       "      <td>1424209</td>\n",
       "      <td>1424645</td>\n",
       "    </tr>\n",
       "    <tr>\n",
       "      <th>1351</th>\n",
       "      <td>849054</td>\n",
       "      <td>849397</td>\n",
       "    </tr>\n",
       "    <tr>\n",
       "      <th>1352</th>\n",
       "      <td>142886</td>\n",
       "      <td>143000</td>\n",
       "    </tr>\n",
       "    <tr>\n",
       "      <th>1357</th>\n",
       "      <td>2633085</td>\n",
       "      <td>2633215</td>\n",
       "    </tr>\n",
       "  </tbody>\n",
       "</table>\n",
       "<p>651 rows × 2 columns</p>\n",
       "</div>"
      ],
      "text/plain": [
       "         ymax     ymin\n",
       "2     1036754  1038442\n",
       "4     1086579  1088124\n",
       "5     1136929  1137516\n",
       "6       87169    87212\n",
       "7      696534   697615\n",
       "...       ...      ...\n",
       "1347  2473087  2474146\n",
       "1349  1424209  1424645\n",
       "1351   849054   849397\n",
       "1352   142886   143000\n",
       "1357  2633085  2633215\n",
       "\n",
       "[651 rows x 2 columns]"
      ]
     },
     "execution_count": 95,
     "metadata": {},
     "output_type": "execute_result"
    }
   ],
   "source": [
    "train_df[train_df['ymax'] - train_df['ymin'] < 0][['ymax','ymin']]"
   ]
  },
  {
   "cell_type": "code",
   "execution_count": 111,
   "metadata": {},
   "outputs": [
    {
     "data": {
      "image/png": "[encoded data removed]",
      "text/plain": [
       "<Figure size 432x288 with 1 Axes>"
      ]
     },
     "metadata": {
      "needs_background": "dark"
     },
     "output_type": "display_data"
    }
   ],
   "source": [
    "import matplotlib.pyplot as plt\n",
    "from sklearn.preprocessing import StandardScaler\n",
    "sc = StandardScaler()\n",
    "plt.scatter(sc.fit_transform(\n",
    "    np.array(abs((train_df['ymax'] - train_df['ymin']) * (train_df['xmax'] - train_df['xmin']))).reshape(-1,1)), train_df['class'])\n",
    "plt.tick_params(colors='white', labelcolor = 'white')"
   ]
  },
  {
   "cell_type": "code",
   "execution_count": null,
   "metadata": {},
   "outputs": [],
   "source": [
    "X = train_df[predictor_columns]\n",
    "X['xmax-xmin'] = abs(train_df.loc[:,'xmax'] - train_df.loc[:,'xmin'])\n",
    "X['ymax-ymin'] = abs(train_df.loc[:,'ymax'] - train_df.loc[:,'ymin'])\n",
    "X['volume'] = X['xmax-xmin'] * X['ymax-ymin'] * X['thickness']\n",
    "y = train_df['class']\n",
    "y=y-1\n",
    "X_test = test_df[predictor_columns]\n",
    "X_test['xmax-xmin'] = abs(test_df.loc[:,'xmax'] - test_df.loc[:,'xmin'])\n",
    "X_test['ymax-ymin'] = abs(test_df.loc[:,'ymax'] - test_df.loc[:,'ymin'])\n",
    "X_test['volume'] = X_test['xmax-xmin'] * X_test['ymax-ymin'] * X_test['thickness']\n",
    "print(X.shape)\n",
    "print(X_test.shape)\n"
   ]
  },
  {
   "cell_type": "code",
   "execution_count": 8,
   "metadata": {},
   "outputs": [
    {
     "data": {
      "text/plain": [
       "<matplotlib.axes._subplots.AxesSubplot at 0x2d0f4d42608>"
      ]
     },
     "execution_count": 8,
     "metadata": {},
     "output_type": "execute_result"
    },
    {
     "data": {
      "image/png": "[encoded data removed]",
      "text/plain": [
       "<Figure size 720x720 with 2 Axes>"
      ]
     },
     "metadata": {},
     "output_type": "display_data"
    }
   ],
   "source": [
    "#There seems to be a correlation between pixel_area and log_area. So find all correlation.\n",
    "sns.set(style=\"white\")\n",
    "corr = X.corr()\n",
    "plt.figure(figsize=(10,10))\n",
    "sns.heatmap(corr, vmax=1.0, center=0, fmt='.2f',\n",
    "                square=True, linewidths=.5, annot=True, cbar_kws={\"shrink\": .70})"
   ]
  },
  {
   "cell_type": "code",
   "execution_count": 124,
   "metadata": {},
   "outputs": [
    {
     "name": "stdout",
     "output_type": "stream",
     "text": [
      "Score -0.29999829667251754\n",
      "Params {'est__learning_rate': 0.05, 'est__max_depth': 10, 'est__n_estimators': 100, 'est__reg_lambda': 0.03}\n"
     ]
    }
   ],
   "source": [
    "#Correct Grid Search with XGBoost\n",
    "from xgboost import XGBClassifier\n",
    "from sklearn.model_selection import GridSearchCV\n",
    "from sklearn.pipeline import Pipeline\n",
    "params = {'est__max_depth' : [10,11,12], 'est__learning_rate' : [0.01, 0.03, 0.05, 0.1], \n",
    "         'est__n_estimators' : [100,150], 'est__reg_lambda' : [0.01,0.03]}\n",
    "classifier_12 = XGBClassifier(random_state = 0)\n",
    "pipe = Pipeline([\n",
    "    ('sc',StandardScaler()),('est',classifier_12)\n",
    "])\n",
    "grid_12 = GridSearchCV(estimator = pipe, param_grid = params, cv = 5, scoring = 'neg_log_loss')\n",
    "grid_12.fit(X,y)\n",
    "print(\"Score\", grid_12.best_score_)\n",
    "print(\"Params\", grid_12.best_params_)"
   ]
  },
  {
   "cell_type": "code",
   "execution_count": 129,
   "metadata": {},
   "outputs": [
    {
     "data": {
      "text/plain": [
       "-0.2946628055452142"
      ]
     },
     "execution_count": 129,
     "metadata": {},
     "output_type": "execute_result"
    }
   ],
   "source": [
    "#Params {'est__learning_rate': 0.03, 'est__max_depth': 11, 'est__n_estimators': 150, 'est__reg_lambda': 0.03}\n",
    "from sklearn.model_selection import cross_val_score\n",
    "scores = cross_val_score(grid_12.best_estimator_, X,y ,cv=4, scoring = 'neg_log_loss')\n",
    "scores.mean()"
   ]
  },
  {
   "cell_type": "code",
   "execution_count": 117,
   "metadata": {},
   "outputs": [
    {
     "name": "stdout",
     "output_type": "stream",
     "text": [
      "(1358, 14)\n"
     ]
    }
   ],
   "source": [
    "#full fit\n",
    "print(X.shape)\n",
    "from xgboost import XGBClassifier\n",
    "grid_12.best_estimator_.fit(X,y) \n",
    "predictions_12 = grid_12.best_estimator_.predict_proba(X_test)"
   ]
  },
  {
   "cell_type": "code",
   "execution_count": 130,
   "metadata": {},
   "outputs": [
    {
     "data": {
      "text/plain": [
       "ymax-ymin              0.014300\n",
       "volume                 0.016870\n",
       "log_area               0.019706\n",
       "xmax-xmin              0.021750\n",
       "xmin                   0.022656\n",
       "max_luminosity         0.022983\n",
       "ymin                   0.023442\n",
       "thickness              0.036014\n",
       "grade_A_Component_1    0.066687\n",
       "x_component_5          0.088083\n",
       "x_component_4          0.097836\n",
       "x_component_2          0.176473\n",
       "x_component_1          0.178733\n",
       "x_component_3          0.214466\n",
       "dtype: float32"
      ]
     },
     "execution_count": 130,
     "metadata": {},
     "output_type": "execute_result"
    }
   ],
   "source": [
    "pd.Series(index = predictor_columns + ['xmax-xmin','ymax-ymin','volume'] , data = grid_12.best_estimator_[1].feature_importances_).sort_values()"
   ]
  },
  {
   "cell_type": "code",
   "execution_count": 131,
   "metadata": {},
   "outputs": [
    {
     "name": "stdout",
     "output_type": "stream",
     "text": [
      "(583, 2)\n"
     ]
    },
    {
     "data": {
      "text/html": [
       "<div>\n",
       "<style scoped>\n",
       "    .dataframe tbody tr th:only-of-type {\n",
       "        vertical-align: middle;\n",
       "    }\n",
       "\n",
       "    .dataframe tbody tr th {\n",
       "        vertical-align: top;\n",
       "    }\n",
       "\n",
       "    .dataframe thead th {\n",
       "        text-align: right;\n",
       "    }\n",
       "</style>\n",
       "<table border=\"1\" class=\"dataframe\">\n",
       "  <thead>\n",
       "    <tr style=\"text-align: right;\">\n",
       "      <th></th>\n",
       "      <th>1</th>\n",
       "      <th>2</th>\n",
       "    </tr>\n",
       "  </thead>\n",
       "  <tbody>\n",
       "    <tr>\n",
       "      <th>0</th>\n",
       "      <td>1.000000</td>\n",
       "      <td>0.000000</td>\n",
       "    </tr>\n",
       "    <tr>\n",
       "      <th>1</th>\n",
       "      <td>0.137696</td>\n",
       "      <td>0.862304</td>\n",
       "    </tr>\n",
       "    <tr>\n",
       "      <th>2</th>\n",
       "      <td>1.000000</td>\n",
       "      <td>0.000000</td>\n",
       "    </tr>\n",
       "    <tr>\n",
       "      <th>3</th>\n",
       "      <td>1.000000</td>\n",
       "      <td>0.000000</td>\n",
       "    </tr>\n",
       "    <tr>\n",
       "      <th>4</th>\n",
       "      <td>0.473877</td>\n",
       "      <td>0.526123</td>\n",
       "    </tr>\n",
       "  </tbody>\n",
       "</table>\n",
       "</div>"
      ],
      "text/plain": [
       "          1         2\n",
       "0  1.000000  0.000000\n",
       "1  0.137696  0.862304\n",
       "2  1.000000  0.000000\n",
       "3  1.000000  0.000000\n",
       "4  0.473877  0.526123"
      ]
     },
     "execution_count": 131,
     "metadata": {},
     "output_type": "execute_result"
    }
   ],
   "source": [
    "submissions_df_12 = pd.DataFrame({'1':predictions_12[:,0], '2':predictions_12[:,1]})\n",
    "submissions_df_12.loc[filtered_with_1_test.index, '1'] = 1\n",
    "submissions_df_12.loc[filtered_with_1_test.index, '2'] = 0\n",
    "print(submissions_df_12.shape)\n",
    "submissions_df_12.head()"
   ]
  },
  {
   "cell_type": "code",
   "execution_count": 121,
   "metadata": {},
   "outputs": [],
   "source": [
    "submissions_df_12.to_excel('Submission_with_other_technique.xlsx', index = False)"
   ]
  },
  {
   "cell_type": "code",
   "execution_count": 132,
   "metadata": {},
   "outputs": [],
   "source": [
    "submissions_df_12.to_excel('Submission_with_other_technique_1.xlsx', index = False)"
   ]
  },
  {
   "cell_type": "code",
   "execution_count": null,
   "metadata": {},
   "outputs": [],
   "source": []
  }
 ],
 "metadata": {
  "kernelspec": {
   "display_name": "Python 3",
   "language": "python",
   "name": "python3"
  },
  "language_info": {
   "codemirror_mode": {
    "name": "ipython",
    "version": 3
   },
   "file_extension": ".py",
   "mimetype": "text/x-python",
   "name": "python",
   "nbconvert_exporter": "python",
   "pygments_lexer": "ipython3",
   "version": "3.7.6"
  }
 },
 "nbformat": 4,
 "nbformat_minor": 4
}
