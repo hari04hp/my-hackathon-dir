{
 "cells": [
  {
   "cell_type": "code",
   "execution_count": null,
   "metadata": {},
   "outputs": [],
   "source": [
    "#Importing\n",
    "import pandas as pd\n",
    "import numpy as np\n",
    "from sklearn.model_selection import GridSearchCV\n",
    "from sklearn.preprocessing import LabelEncoder, OneHotEncoder\n",
    "import seaborn as sns\n",
    "import math\n",
    "import matplotlib.pyplot as plt\n",
    "from scipy.sparse import coo_matrix, hstack\n",
    "import timeit"
   ]
  },
  {
   "cell_type": "code",
   "execution_count": null,
   "metadata": {},
   "outputs": [],
   "source": [
    "#Fetch from train and test\n",
    "train_df = pd.read_csv('train.csv')\n",
    "test_df = pd.read_csv('test.csv')\n",
    "train_df.head()"
   ]
  },
  {
   "cell_type": "code",
   "execution_count": null,
   "metadata": {},
   "outputs": [],
   "source": [
    "Train_df = train_df.copy()\n",
    "Test_df = test_df.copy()"
   ]
  },
  {
   "cell_type": "markdown",
   "metadata": {},
   "source": [
    "### Data Analysis"
   ]
  },
  {
   "cell_type": "markdown",
   "metadata": {},
   "source": [
    "#### ID"
   ]
  },
  {
   "cell_type": "code",
   "execution_count": null,
   "metadata": {},
   "outputs": [],
   "source": [
    "#Checking whether train id is present in test id or not\n",
    "print(set(train_df['ID']).intersection(set(test_df['ID'])))\n",
    "print(set(test_df['ID']).intersection(set(train_df['ID'])))"
   ]
  },
  {
   "cell_type": "markdown",
   "metadata": {},
   "source": [
    "###### ID's are not repeated so they are useless. they are required only for assigning"
   ]
  },
  {
   "cell_type": "code",
   "execution_count": null,
   "metadata": {},
   "outputs": [],
   "source": [
    "plt.figure(figsize=(15,6))\n",
    "plt.scatter(train_df['ID'], train_df['Upvotes'])"
   ]
  },
  {
   "cell_type": "code",
   "execution_count": null,
   "metadata": {},
   "outputs": [],
   "source": [
    "print(len(train_df['ID']))\n",
    "print(len(train_df['ID'].unique()))\n",
    "#ID's are not repeated. They are unique"
   ]
  },
  {
   "cell_type": "markdown",
   "metadata": {},
   "source": [
    "#### Tag"
   ]
  },
  {
   "cell_type": "code",
   "execution_count": null,
   "metadata": {},
   "outputs": [],
   "source": [
    "print(train_df['Tag'].value_counts(normalize=True).sort_index())\n",
    "print(test_df['Tag'].value_counts(normalize=True).sort_index())"
   ]
  },
  {
   "cell_type": "markdown",
   "metadata": {},
   "source": [
    "###### Tags are Equally distributed so they are highly necessary"
   ]
  },
  {
   "cell_type": "code",
   "execution_count": null,
   "metadata": {},
   "outputs": [],
   "source": [
    "cat_features = []\n",
    "cat_features.append(1)\n",
    "#Label Encoding of Tag\n",
    "lb_enc = LabelEncoder()\n",
    "train_df['Tag'] = lb_enc.fit_transform(train_df['Tag'])\n",
    "test_df['Tag'] = lb_enc.transform(test_df['Tag'])"
   ]
  },
  {
   "cell_type": "code",
   "execution_count": null,
   "metadata": {},
   "outputs": [],
   "source": [
    "train_df['Tag'].unique()"
   ]
  },
  {
   "cell_type": "markdown",
   "metadata": {},
   "source": [
    "#### Reputation"
   ]
  },
  {
   "cell_type": "code",
   "execution_count": null,
   "metadata": {},
   "outputs": [],
   "source": [
    "#Less than one lakh\n",
    "plt.figure(figsize=(15,10))\n",
    "plt.scatter(train_df[train_df['Upvotes'] < 100000]['Reputation'], train_df[train_df['Upvotes'] < 100000]['Upvotes'])\n",
    "plt.tick_params(colors='white')"
   ]
  },
  {
   "cell_type": "code",
   "execution_count": null,
   "metadata": {},
   "outputs": [],
   "source": [
    "#Greater than one lakh\n",
    "plt.figure(figsize=(15,10))\n",
    "plt.scatter(train_df[train_df['Upvotes'] >= 100000]['Reputation'], train_df[train_df['Upvotes'] >= 100000]['Upvotes'])\n",
    "plt.tick_params(colors='white')"
   ]
  },
  {
   "cell_type": "code",
   "execution_count": null,
   "metadata": {},
   "outputs": [],
   "source": [
    "plt.figure(figsize=(15,10))\n",
    "sns.distplot(train_df[train_df['Reputation'] < 20000] ['Reputation'],bins=50)#< 20000]['Reputation']\n",
    "plt.tick_params(colors='white')\n",
    "plt.show()"
   ]
  },
  {
   "cell_type": "code",
   "execution_count": null,
   "metadata": {},
   "outputs": [],
   "source": [
    "#The actual figure was exponential so used log curve. This will be helpful in linear or neural networks\n",
    "plt.figure(figsize=(15,10))\n",
    "sns.distplot(train_df[train_df['Reputation'] > 0] ['Reputation'].apply(np.log),bins=50)#< 20000]['Reputation']\n",
    "plt.tick_params(colors='white')\n",
    "plt.show()"
   ]
  },
  {
   "cell_type": "markdown",
   "metadata": {},
   "source": [
    "###### Reputation of question author has an impact on upvotes. And they are related to username also"
   ]
  },
  {
   "cell_type": "markdown",
   "metadata": {},
   "source": [
    "#### Answers   - Try with  numeric"
   ]
  },
  {
   "cell_type": "code",
   "execution_count": null,
   "metadata": {},
   "outputs": [],
   "source": [
    "print(train_df['Answers'].value_counts(normalize=True))\n",
    "print(test_df['Answers'].value_counts(normalize=True))"
   ]
  },
  {
   "cell_type": "code",
   "execution_count": null,
   "metadata": {},
   "outputs": [],
   "source": [
    "plt.figure(figsize=(20,10))\n",
    "sns.barplot(x='Answers',y='Upvotes',data=train_df)\n",
    "plt.tick_params(colors='white')\n",
    "plt.xticks(rotation=90)"
   ]
  },
  {
   "cell_type": "code",
   "execution_count": null,
   "metadata": {},
   "outputs": [],
   "source": [
    "print(len(train_df['Answers']))\n",
    "print(len(train_df['Answers'].unique()))"
   ]
  },
  {
   "cell_type": "markdown",
   "metadata": {},
   "source": [
    "#### Username - Category Must"
   ]
  },
  {
   "cell_type": "code",
   "execution_count": null,
   "metadata": {},
   "outputs": [],
   "source": [
    "print(train_df['Username'].value_counts(normalize=True))\n",
    "print(test_df['Username'].value_counts(normalize=True))"
   ]
  },
  {
   "cell_type": "code",
   "execution_count": null,
   "metadata": {},
   "outputs": [],
   "source": [
    "plt.figure(figsize=(20,10))\n",
    "plt.scatter(train_df['Username'], train_df['Upvotes'])\n",
    "plt.tick_params(colors='white')\n",
    "plt.xticks(rotation=90)"
   ]
  },
  {
   "cell_type": "code",
   "execution_count": null,
   "metadata": {},
   "outputs": [],
   "source": [
    "print(len(train_df['Username']))\n",
    "print(len(train_df['Username'].unique()))"
   ]
  },
  {
   "cell_type": "markdown",
   "metadata": {},
   "source": [
    "#### Views"
   ]
  },
  {
   "cell_type": "code",
   "execution_count": null,
   "metadata": {},
   "outputs": [],
   "source": [
    "print(train_df['Views'].value_counts(normalize=True))\n",
    "print(test_df['Views'].value_counts(normalize=True))"
   ]
  },
  {
   "cell_type": "code",
   "execution_count": null,
   "metadata": {},
   "outputs": [],
   "source": [
    "plt.figure(figsize=(20,10))\n",
    "plt.scatter(train_df[train_df['Views'] < 2000000]['Views'], train_df[train_df['Views'] < 2000000]['Upvotes'])\n",
    "plt.tick_params(colors='white')\n",
    "plt.xticks(rotation=90)"
   ]
  },
  {
   "cell_type": "code",
   "execution_count": null,
   "metadata": {},
   "outputs": [],
   "source": [
    "print(len(train_df['Views']))\n",
    "print(len(train_df['Views'].unique()))"
   ]
  },
  {
   "cell_type": "markdown",
   "metadata": {},
   "source": [
    "###### Let Views be Numeric itself"
   ]
  },
  {
   "cell_type": "markdown",
   "metadata": {},
   "source": [
    "### Model"
   ]
  },
  {
   "cell_type": "markdown",
   "metadata": {},
   "source": [
    "######  Variables\n",
    "1. ID ->  Don't use\n",
    "2. Tag -> Category\n",
    "3. Reputation -> Numeric\n",
    "4. Answers -> numeric\n",
    "5. Username -> Category\n",
    "6. Views -> Numeric\n"
   ]
  },
  {
   "cell_type": "code",
   "execution_count": null,
   "metadata": {},
   "outputs": [],
   "source": [
    "train_df.head()"
   ]
  },
  {
   "cell_type": "code",
   "execution_count": null,
   "metadata": {},
   "outputs": [],
   "source": [
    "from sklearn.preprocessing import OneHotEncoder\n",
    "one_enc = OneHotEncoder(drop='first')\n",
    "encoded_username = one_enc.fit_transform(train_df[['Username']])#.toarray().reshape(-1,1))\n",
    "encoded_username"
   ]
  },
  {
   "cell_type": "code",
   "execution_count": null,
   "metadata": {},
   "outputs": [],
   "source": [
    "print(type(encoded_username))"
   ]
  },
  {
   "cell_type": "code",
   "execution_count": null,
   "metadata": {},
   "outputs": [],
   "source": [
    "#Joining two sparse matrices\n",
    "#coo_matrix() => converts normal array to COO format\n",
    "train_df_encoded_sparse = hstack([coo_matrix(train_df.drop(['ID', 'Username', 'Upvotes'], axis = 1).values), encoded_username])\n",
    "train_df_encoded_sparse"
   ]
  },
  {
   "cell_type": "code",
   "execution_count": null,
   "metadata": {},
   "outputs": [],
   "source": [
    "#XGBoost\n",
    "from xgboost import XGBRegressor\n",
    "from sklearn.model_selection import cross_val_score\n",
    "regressor = XGBRegressor()\n",
    "scores = cross_val_score(regressor,\n",
    "                         train_df_encoded_sparse,\n",
    "                         train_df['Upvotes'], cv = 4, scoring='neg_mean_squared_error')\n",
    "print(scores)\n",
    "# regressor.fit()\n",
    "print(np.sqrt(-scores.mean()))"
   ]
  },
  {
   "cell_type": "code",
   "execution_count": null,
   "metadata": {},
   "outputs": [],
   "source": [
    "print(regressor.n_estimators)\n",
    "print(regressor.verbosity)\n",
    "print(regressor.learning_rate)\n",
    "print(regressor.tree_method)\n",
    "print(regressor.reg_alpha)\n",
    "print(regressor.reg_lambda)\n",
    "print(regressor.__dict__)"
   ]
  },
  {
   "cell_type": "markdown",
   "metadata": {},
   "source": [
    "### Grid Search for n_estimators"
   ]
  },
  {
   "cell_type": "code",
   "execution_count": null,
   "metadata": {},
   "outputs": [],
   "source": [
    "X_train = train_df_encoded_sparse.copy()\n",
    "y_train = train_df['Upvotes']"
   ]
  },
  {
   "cell_type": "code",
   "execution_count": null,
   "metadata": {},
   "outputs": [],
   "source": [
    "from sklearn.model_selection import GridSearchCV\n",
    "param_grid = {'n_estimators' : [300,500,700,900]}\n",
    "grid_cv_1 = GridSearchCV(regressor, param_grid, cv = 5, scoring = 'neg_mean_squared_error')\n",
    "t1 = timeit.default_timer()\n",
    "grid_cv_1.fit(X_train, y_train)\n",
    "print(\"Time taken : \", timeit.default_timer() - t1 )\n",
    "print(\"Score : \", grid_cv_1.best_score_)\n",
    "print(\"Params : \", grid_cv_1.best_params_)\n",
    "print(\"Results : \", grid_cv_1.cv_results_)"
   ]
  },
  {
   "cell_type": "code",
   "execution_count": null,
   "metadata": {},
   "outputs": [],
   "source": []
  }
 ],
 "metadata": {
  "kernelspec": {
   "display_name": "Python 3",
   "language": "python",
   "name": "python3"
  },
  "language_info": {
   "codemirror_mode": {
    "name": "ipython",
    "version": 3
   },
   "file_extension": ".py",
   "mimetype": "text/x-python",
   "name": "python",
   "nbconvert_exporter": "python",
   "pygments_lexer": "ipython3",
   "version": "3.7.6"
  }
 },
 "nbformat": 4,
 "nbformat_minor": 4
}
